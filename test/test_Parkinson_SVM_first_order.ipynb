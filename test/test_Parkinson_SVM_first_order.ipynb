{
 "cells": [
  {
   "cell_type": "code",
   "execution_count": 11,
   "id": "c91f76c7",
   "metadata": {},
   "outputs": [
    {
     "data": {
      "text/html": [
       "<div><div style = \"float: left;\"><span>240×48 DataFrame</span></div><div style = \"float: right;\"><span style = \"font-style: italic;\">215 rows omitted</span></div><div style = \"clear: both;\"></div></div><div class = \"data-frame\" style = \"overflow-x: scroll;\"><table class = \"data-frame\" style = \"margin-bottom: 6px;\"><thead><tr class = \"header\"><th class = \"rowNumber\" style = \"font-weight: bold; text-align: right;\">Row</th><th style = \"text-align: left;\">ID</th><th style = \"text-align: left;\">Recording</th><th style = \"text-align: left;\">Status</th><th style = \"text-align: left;\">Gender</th><th style = \"text-align: left;\">Jitter_rel</th><th style = \"text-align: left;\">Jitter_abs</th><th style = \"text-align: left;\">Jitter_RAP</th><th style = \"text-align: left;\">Jitter_PPQ</th><th style = \"text-align: left;\">Shim_loc</th><th style = \"text-align: left;\">Shim_dB</th><th style = \"text-align: left;\">Shim_APQ3</th><th style = \"text-align: left;\">Shim_APQ5</th><th style = \"text-align: left;\">Shi_APQ11</th><th style = \"text-align: left;\">HNR05</th><th style = \"text-align: left;\">HNR15</th><th style = \"text-align: left;\">HNR25</th><th style = \"text-align: left;\">HNR35</th><th style = \"text-align: left;\">HNR38</th><th style = \"text-align: left;\">RPDE</th><th style = \"text-align: left;\">DFA</th><th style = \"text-align: left;\">PPE</th><th style = \"text-align: left;\">GNE</th><th style = \"text-align: left;\">MFCC0</th><th style = \"text-align: left;\">MFCC1</th><th style = \"text-align: left;\">MFCC2</th><th style = \"text-align: left;\">MFCC3</th><th style = \"text-align: left;\">MFCC4</th><th style = \"text-align: left;\">MFCC5</th><th style = \"text-align: left;\">MFCC6</th><th style = \"text-align: left;\">MFCC7</th><th style = \"text-align: left;\">MFCC8</th><th style = \"text-align: left;\">MFCC9</th><th style = \"text-align: left;\">MFCC10</th><th style = \"text-align: left;\">MFCC11</th><th style = \"text-align: left;\">MFCC12</th><th style = \"text-align: left;\">Delta0</th><th style = \"text-align: left;\">Delta1</th><th style = \"text-align: left;\">Delta2</th><th style = \"text-align: left;\">Delta3</th><th style = \"text-align: left;\">Delta4</th><th style = \"text-align: left;\">Delta5</th><th style = \"text-align: left;\">Delta6</th><th style = \"text-align: left;\">Delta7</th><th style = \"text-align: left;\">Delta8</th><th style = \"text-align: left;\">Delta9</th><th style = \"text-align: left;\">Delta10</th><th style = \"text-align: left;\">Delta11</th><th style = \"text-align: left;\">Delta12</th></tr><tr class = \"subheader headerLastRow\"><th class = \"rowNumber\" style = \"font-weight: bold; text-align: right;\"></th><th title = \"String7\" style = \"text-align: left;\">String7</th><th title = \"Int64\" style = \"text-align: left;\">Int64</th><th title = \"Int64\" style = \"text-align: left;\">Int64</th><th title = \"Int64\" style = \"text-align: left;\">Int64</th><th title = \"Float64\" style = \"text-align: left;\">Float64</th><th title = \"Float64\" style = \"text-align: left;\">Float64</th><th title = \"Float64\" style = \"text-align: left;\">Float64</th><th title = \"Float64\" style = \"text-align: left;\">Float64</th><th title = \"Float64\" style = \"text-align: left;\">Float64</th><th title = \"Float64\" style = \"text-align: left;\">Float64</th><th title = \"Float64\" style = \"text-align: left;\">Float64</th><th title = \"Float64\" style = \"text-align: left;\">Float64</th><th title = \"Float64\" style = \"text-align: left;\">Float64</th><th title = \"Float64\" style = \"text-align: left;\">Float64</th><th title = \"Float64\" style = \"text-align: left;\">Float64</th><th title = \"Float64\" style = \"text-align: left;\">Float64</th><th title = \"Float64\" style = \"text-align: left;\">Float64</th><th title = \"Float64\" style = \"text-align: left;\">Float64</th><th title = \"Float64\" style = \"text-align: left;\">Float64</th><th title = \"Float64\" style = \"text-align: left;\">Float64</th><th title = \"Float64\" style = \"text-align: left;\">Float64</th><th title = \"Float64\" style = \"text-align: left;\">Float64</th><th title = \"Float64\" style = \"text-align: left;\">Float64</th><th title = \"Float64\" style = \"text-align: left;\">Float64</th><th title = \"Float64\" style = \"text-align: left;\">Float64</th><th title = \"Float64\" style = \"text-align: left;\">Float64</th><th title = \"Float64\" style = \"text-align: left;\">Float64</th><th title = \"Float64\" style = \"text-align: left;\">Float64</th><th title = \"Float64\" style = \"text-align: left;\">Float64</th><th title = \"Float64\" style = \"text-align: left;\">Float64</th><th title = \"Float64\" style = \"text-align: left;\">Float64</th><th title = \"Float64\" style = \"text-align: left;\">Float64</th><th title = \"Float64\" style = \"text-align: left;\">Float64</th><th title = \"Float64\" style = \"text-align: left;\">Float64</th><th title = \"Float64\" style = \"text-align: left;\">Float64</th><th title = \"Float64\" style = \"text-align: left;\">Float64</th><th title = \"Float64\" style = \"text-align: left;\">Float64</th><th title = \"Float64\" style = \"text-align: left;\">Float64</th><th title = \"Float64\" style = \"text-align: left;\">Float64</th><th title = \"Float64\" style = \"text-align: left;\">Float64</th><th title = \"Float64\" style = \"text-align: left;\">Float64</th><th title = \"Float64\" style = \"text-align: left;\">Float64</th><th title = \"Float64\" style = \"text-align: left;\">Float64</th><th title = \"Float64\" style = \"text-align: left;\">Float64</th><th title = \"Float64\" style = \"text-align: left;\">Float64</th><th title = \"Float64\" style = \"text-align: left;\">Float64</th><th title = \"Float64\" style = \"text-align: left;\">Float64</th><th title = \"Float64\" style = \"text-align: left;\">Float64</th></tr></thead><tbody><tr><td class = \"rowNumber\" style = \"font-weight: bold; text-align: right;\">1</td><td style = \"text-align: left;\">CONT-01</td><td style = \"text-align: right;\">1</td><td style = \"text-align: right;\">0</td><td style = \"text-align: right;\">1</td><td style = \"text-align: right;\">0.25546</td><td style = \"text-align: right;\">1.4581e-5</td><td style = \"text-align: right;\">0.001467</td><td style = \"text-align: right;\">0.0016734</td><td style = \"text-align: right;\">0.030256</td><td style = \"text-align: right;\">0.26313</td><td style = \"text-align: right;\">0.017463</td><td style = \"text-align: right;\">0.01966</td><td style = \"text-align: right;\">0.021882</td><td style = \"text-align: right;\">59.438</td><td style = \"text-align: right;\">60.7362</td><td style = \"text-align: right;\">71.8829</td><td style = \"text-align: right;\">77.6267</td><td style = \"text-align: right;\">77.538</td><td style = \"text-align: right;\">0.250433</td><td style = \"text-align: right;\">0.599346</td><td style = \"text-align: right;\">0.00539662</td><td style = \"text-align: right;\">0.900404</td><td style = \"text-align: right;\">1.3195</td><td style = \"text-align: right;\">1.3362</td><td style = \"text-align: right;\">1.30241</td><td style = \"text-align: right;\">1.32909</td><td style = \"text-align: right;\">1.28492</td><td style = \"text-align: right;\">1.20923</td><td style = \"text-align: right;\">1.23935</td><td style = \"text-align: right;\">1.277</td><td style = \"text-align: right;\">1.3325</td><td style = \"text-align: right;\">1.34747</td><td style = \"text-align: right;\">1.36754</td><td style = \"text-align: right;\">1.40214</td><td style = \"text-align: right;\">1.39381</td><td style = \"text-align: right;\">1.39787</td><td style = \"text-align: right;\">1.37246</td><td style = \"text-align: right;\">1.3903</td><td style = \"text-align: right;\">1.4077</td><td style = \"text-align: right;\">1.41722</td><td style = \"text-align: right;\">1.38035</td><td style = \"text-align: right;\">1.42067</td><td style = \"text-align: right;\">1.45124</td><td style = \"text-align: right;\">1.44029</td><td style = \"text-align: right;\">1.40368</td><td style = \"text-align: right;\">1.40549</td><td style = \"text-align: right;\">1.4167</td><td style = \"text-align: right;\">1.35461</td></tr><tr><td class = \"rowNumber\" style = \"font-weight: bold; text-align: right;\">2</td><td style = \"text-align: left;\">CONT-01</td><td style = \"text-align: right;\">2</td><td style = \"text-align: right;\">0</td><td style = \"text-align: right;\">1</td><td style = \"text-align: right;\">0.36964</td><td style = \"text-align: right;\">2.1662e-5</td><td style = \"text-align: right;\">0.0019317</td><td style = \"text-align: right;\">0.0022446</td><td style = \"text-align: right;\">0.023146</td><td style = \"text-align: right;\">0.20217</td><td style = \"text-align: right;\">0.01301</td><td style = \"text-align: right;\">0.014097</td><td style = \"text-align: right;\">0.016828</td><td style = \"text-align: right;\">59.8389</td><td style = \"text-align: right;\">62.6556</td><td style = \"text-align: right;\">74.3787</td><td style = \"text-align: right;\">79.9892</td><td style = \"text-align: right;\">80.2698</td><td style = \"text-align: right;\">0.271445</td><td style = \"text-align: right;\">0.581242</td><td style = \"text-align: right;\">0.075617</td><td style = \"text-align: right;\">0.887042</td><td style = \"text-align: right;\">1.21525</td><td style = \"text-align: right;\">1.22156</td><td style = \"text-align: right;\">1.26542</td><td style = \"text-align: right;\">1.18718</td><td style = \"text-align: right;\">1.25634</td><td style = \"text-align: right;\">1.24638</td><td style = \"text-align: right;\">1.28363</td><td style = \"text-align: right;\">1.3025</td><td style = \"text-align: right;\">1.30801</td><td style = \"text-align: right;\">1.31653</td><td style = \"text-align: right;\">1.37064</td><td style = \"text-align: right;\">1.37397</td><td style = \"text-align: right;\">1.34465</td><td style = \"text-align: right;\">1.3024</td><td style = \"text-align: right;\">1.34768</td><td style = \"text-align: right;\">1.36575</td><td style = \"text-align: right;\">1.33123</td><td style = \"text-align: right;\">1.22734</td><td style = \"text-align: right;\">1.21338</td><td style = \"text-align: right;\">1.35274</td><td style = \"text-align: right;\">1.35424</td><td style = \"text-align: right;\">1.36569</td><td style = \"text-align: right;\">1.32287</td><td style = \"text-align: right;\">1.31455</td><td style = \"text-align: right;\">1.319</td><td style = \"text-align: right;\">1.32351</td></tr><tr><td class = \"rowNumber\" style = \"font-weight: bold; text-align: right;\">3</td><td style = \"text-align: left;\">CONT-01</td><td style = \"text-align: right;\">3</td><td style = \"text-align: right;\">0</td><td style = \"text-align: right;\">1</td><td style = \"text-align: right;\">0.23514</td><td style = \"text-align: right;\">1.3109e-5</td><td style = \"text-align: right;\">0.0013527</td><td style = \"text-align: right;\">0.0015465</td><td style = \"text-align: right;\">0.019338</td><td style = \"text-align: right;\">0.1671</td><td style = \"text-align: right;\">0.011049</td><td style = \"text-align: right;\">0.012683</td><td style = \"text-align: right;\">0.013038</td><td style = \"text-align: right;\">57.2938</td><td style = \"text-align: right;\">61.8583</td><td style = \"text-align: right;\">73.6653</td><td style = \"text-align: right;\">78.9305</td><td style = \"text-align: right;\">79.0335</td><td style = \"text-align: right;\">0.203531</td><td style = \"text-align: right;\">0.600759</td><td style = \"text-align: right;\">0.00528287</td><td style = \"text-align: right;\">0.889399</td><td style = \"text-align: right;\">1.42607</td><td style = \"text-align: right;\">1.2207</td><td style = \"text-align: right;\">1.34419</td><td style = \"text-align: right;\">1.3463</td><td style = \"text-align: right;\">1.3398</td><td style = \"text-align: right;\">1.33445</td><td style = \"text-align: right;\">1.3918</td><td style = \"text-align: right;\">1.34962</td><td style = \"text-align: right;\">1.3499</td><td style = \"text-align: right;\">1.34046</td><td style = \"text-align: right;\">1.36259</td><td style = \"text-align: right;\">1.31377</td><td style = \"text-align: right;\">1.27794</td><td style = \"text-align: right;\">1.31289</td><td style = \"text-align: right;\">1.35244</td><td style = \"text-align: right;\">1.24338</td><td style = \"text-align: right;\">1.4123</td><td style = \"text-align: right;\">1.32467</td><td style = \"text-align: right;\">1.27609</td><td style = \"text-align: right;\">1.42963</td><td style = \"text-align: right;\">1.456</td><td style = \"text-align: right;\">1.36888</td><td style = \"text-align: right;\">1.43805</td><td style = \"text-align: right;\">1.38891</td><td style = \"text-align: right;\">1.30547</td><td style = \"text-align: right;\">1.3054</td></tr><tr><td class = \"rowNumber\" style = \"font-weight: bold; text-align: right;\">4</td><td style = \"text-align: left;\">CONT-02</td><td style = \"text-align: right;\">1</td><td style = \"text-align: right;\">0</td><td style = \"text-align: right;\">0</td><td style = \"text-align: right;\">0.2932</td><td style = \"text-align: right;\">1.7331e-5</td><td style = \"text-align: right;\">0.0011048</td><td style = \"text-align: right;\">0.0014443</td><td style = \"text-align: right;\">0.024716</td><td style = \"text-align: right;\">0.20892</td><td style = \"text-align: right;\">0.014525</td><td style = \"text-align: right;\">0.015696</td><td style = \"text-align: right;\">0.01833</td><td style = \"text-align: right;\">62.1796</td><td style = \"text-align: right;\">68.6782</td><td style = \"text-align: right;\">79.84</td><td style = \"text-align: right;\">84.3677</td><td style = \"text-align: right;\">84.2524</td><td style = \"text-align: right;\">0.26136</td><td style = \"text-align: right;\">0.625216</td><td style = \"text-align: right;\">0.030518</td><td style = \"text-align: right;\">0.875984</td><td style = \"text-align: right;\">1.49523</td><td style = \"text-align: right;\">1.60298</td><td style = \"text-align: right;\">1.57271</td><td style = \"text-align: right;\">1.49832</td><td style = \"text-align: right;\">1.56172</td><td style = \"text-align: right;\">1.59051</td><td style = \"text-align: right;\">1.62632</td><td style = \"text-align: right;\">1.64581</td><td style = \"text-align: right;\">1.66673</td><td style = \"text-align: right;\">1.61849</td><td style = \"text-align: right;\">1.49369</td><td style = \"text-align: right;\">1.45904</td><td style = \"text-align: right;\">1.38361</td><td style = \"text-align: right;\">1.37963</td><td style = \"text-align: right;\">1.21752</td><td style = \"text-align: right;\">1.30965</td><td style = \"text-align: right;\">1.5012</td><td style = \"text-align: right;\">1.53417</td><td style = \"text-align: right;\">1.32399</td><td style = \"text-align: right;\">1.49644</td><td style = \"text-align: right;\">1.47293</td><td style = \"text-align: right;\">1.64318</td><td style = \"text-align: right;\">1.55129</td><td style = \"text-align: right;\">1.63835</td><td style = \"text-align: right;\">1.60401</td><td style = \"text-align: right;\">1.62146</td></tr><tr><td class = \"rowNumber\" style = \"font-weight: bold; text-align: right;\">5</td><td style = \"text-align: left;\">CONT-02</td><td style = \"text-align: right;\">2</td><td style = \"text-align: right;\">0</td><td style = \"text-align: right;\">0</td><td style = \"text-align: right;\">0.23075</td><td style = \"text-align: right;\">1.4561e-5</td><td style = \"text-align: right;\">0.0010729</td><td style = \"text-align: right;\">0.0014043</td><td style = \"text-align: right;\">0.013119</td><td style = \"text-align: right;\">0.11607</td><td style = \"text-align: right;\">0.0064606</td><td style = \"text-align: right;\">0.0083846</td><td style = \"text-align: right;\">0.011037</td><td style = \"text-align: right;\">67.534</td><td style = \"text-align: right;\">74.9769</td><td style = \"text-align: right;\">85.7274</td><td style = \"text-align: right;\">91.034</td><td style = \"text-align: right;\">91.1452</td><td style = \"text-align: right;\">0.222069</td><td style = \"text-align: right;\">0.602493</td><td style = \"text-align: right;\">0.0356018</td><td style = \"text-align: right;\">0.902206</td><td style = \"text-align: right;\">1.51696</td><td style = \"text-align: right;\">1.58169</td><td style = \"text-align: right;\">1.54267</td><td style = \"text-align: right;\">1.61375</td><td style = \"text-align: right;\">1.50196</td><td style = \"text-align: right;\">1.25856</td><td style = \"text-align: right;\">1.38501</td><td style = \"text-align: right;\">1.45252</td><td style = \"text-align: right;\">1.49805</td><td style = \"text-align: right;\">1.42155</td><td style = \"text-align: right;\">1.55764</td><td style = \"text-align: right;\">1.18722</td><td style = \"text-align: right;\">1.57602</td><td style = \"text-align: right;\">1.25225</td><td style = \"text-align: right;\">1.57734</td><td style = \"text-align: right;\">1.58307</td><td style = \"text-align: right;\">1.50847</td><td style = \"text-align: right;\">1.33451</td><td style = \"text-align: right;\">1.61069</td><td style = \"text-align: right;\">1.68502</td><td style = \"text-align: right;\">1.41761</td><td style = \"text-align: right;\">1.57489</td><td style = \"text-align: right;\">1.64009</td><td style = \"text-align: right;\">1.53367</td><td style = \"text-align: right;\">1.29754</td><td style = \"text-align: right;\">1.38202</td></tr><tr><td class = \"rowNumber\" style = \"font-weight: bold; text-align: right;\">6</td><td style = \"text-align: left;\">CONT-02</td><td style = \"text-align: right;\">3</td><td style = \"text-align: right;\">0</td><td style = \"text-align: right;\">0</td><td style = \"text-align: right;\">0.16489</td><td style = \"text-align: right;\">1.0011e-5</td><td style = \"text-align: right;\">0.00081887</td><td style = \"text-align: right;\">0.0011912</td><td style = \"text-align: right;\">0.010666</td><td style = \"text-align: right;\">0.094738</td><td style = \"text-align: right;\">0.0055183</td><td style = \"text-align: right;\">0.0067848</td><td style = \"text-align: right;\">0.0087555</td><td style = \"text-align: right;\">70.7749</td><td style = \"text-align: right;\">76.6253</td><td style = \"text-align: right;\">88.062</td><td style = \"text-align: right;\">92.8298</td><td style = \"text-align: right;\">93.0899</td><td style = \"text-align: right;\">0.250762</td><td style = \"text-align: right;\">0.557185</td><td style = \"text-align: right;\">0.00569941</td><td style = \"text-align: right;\">0.847307</td><td style = \"text-align: right;\">1.55166</td><td style = \"text-align: right;\">1.50008</td><td style = \"text-align: right;\">1.46413</td><td style = \"text-align: right;\">1.46422</td><td style = \"text-align: right;\">1.38369</td><td style = \"text-align: right;\">1.62545</td><td style = \"text-align: right;\">1.70842</td><td style = \"text-align: right;\">1.73823</td><td style = \"text-align: right;\">1.42041</td><td style = \"text-align: right;\">1.71022</td><td style = \"text-align: right;\">1.31069</td><td style = \"text-align: right;\">1.5522</td><td style = \"text-align: right;\">1.45833</td><td style = \"text-align: right;\">1.6772</td><td style = \"text-align: right;\">1.43792</td><td style = \"text-align: right;\">1.497</td><td style = \"text-align: right;\">1.48066</td><td style = \"text-align: right;\">1.67542</td><td style = \"text-align: right;\">1.37346</td><td style = \"text-align: right;\">1.70961</td><td style = \"text-align: right;\">1.44419</td><td style = \"text-align: right;\">1.38349</td><td style = \"text-align: right;\">1.6254</td><td style = \"text-align: right;\">1.65165</td><td style = \"text-align: right;\">1.65284</td><td style = \"text-align: right;\">1.42762</td></tr><tr><td class = \"rowNumber\" style = \"font-weight: bold; text-align: right;\">7</td><td style = \"text-align: left;\">CONT-03</td><td style = \"text-align: right;\">1</td><td style = \"text-align: right;\">0</td><td style = \"text-align: right;\">1</td><td style = \"text-align: right;\">0.22506</td><td style = \"text-align: right;\">1.4288e-5</td><td style = \"text-align: right;\">0.0013581</td><td style = \"text-align: right;\">0.0014599</td><td style = \"text-align: right;\">0.017181</td><td style = \"text-align: right;\">0.14812</td><td style = \"text-align: right;\">0.0096089</td><td style = \"text-align: right;\">0.01106</td><td style = \"text-align: right;\">0.012707</td><td style = \"text-align: right;\">76.2689</td><td style = \"text-align: right;\">77.3357</td><td style = \"text-align: right;\">86.2111</td><td style = \"text-align: right;\">96.1252</td><td style = \"text-align: right;\">97.721</td><td style = \"text-align: right;\">0.262102</td><td style = \"text-align: right;\">0.572738</td><td style = \"text-align: right;\">0.00592237</td><td style = \"text-align: right;\">0.982127</td><td style = \"text-align: right;\">1.5019</td><td style = \"text-align: right;\">1.01195</td><td style = \"text-align: right;\">0.858802</td><td style = \"text-align: right;\">1.44848</td><td style = \"text-align: right;\">1.69429</td><td style = \"text-align: right;\">1.63759</td><td style = \"text-align: right;\">1.56887</td><td style = \"text-align: right;\">1.41278</td><td style = \"text-align: right;\">1.7375</td><td style = \"text-align: right;\">1.70254</td><td style = \"text-align: right;\">1.5933</td><td style = \"text-align: right;\">1.37956</td><td style = \"text-align: right;\">1.3848</td><td style = \"text-align: right;\">1.69861</td><td style = \"text-align: right;\">1.47168</td><td style = \"text-align: right;\">1.4066</td><td style = \"text-align: right;\">1.71215</td><td style = \"text-align: right;\">1.41944</td><td style = \"text-align: right;\">1.50182</td><td style = \"text-align: right;\">1.50353</td><td style = \"text-align: right;\">1.48668</td><td style = \"text-align: right;\">1.6485</td><td style = \"text-align: right;\">1.34596</td><td style = \"text-align: right;\">1.74186</td><td style = \"text-align: right;\">1.82878</td><td style = \"text-align: right;\">1.6556</td></tr><tr><td class = \"rowNumber\" style = \"font-weight: bold; text-align: right;\">8</td><td style = \"text-align: left;\">CONT-03</td><td style = \"text-align: right;\">2</td><td style = \"text-align: right;\">0</td><td style = \"text-align: right;\">1</td><td style = \"text-align: right;\">0.23086</td><td style = \"text-align: right;\">1.4545e-5</td><td style = \"text-align: right;\">0.0013486</td><td style = \"text-align: right;\">0.0015459</td><td style = \"text-align: right;\">0.017775</td><td style = \"text-align: right;\">0.1578</td><td style = \"text-align: right;\">0.0092616</td><td style = \"text-align: right;\">0.011683</td><td style = \"text-align: right;\">0.014434</td><td style = \"text-align: right;\">64.1133</td><td style = \"text-align: right;\">65.4565</td><td style = \"text-align: right;\">74.771</td><td style = \"text-align: right;\">84.2302</td><td style = \"text-align: right;\">85.704</td><td style = \"text-align: right;\">0.201119</td><td style = \"text-align: right;\">0.578907</td><td style = \"text-align: right;\">0.0387765</td><td style = \"text-align: right;\">0.985982</td><td style = \"text-align: right;\">1.4908</td><td style = \"text-align: right;\">1.23226</td><td style = \"text-align: right;\">1.428</td><td style = \"text-align: right;\">1.47695</td><td style = \"text-align: right;\">1.52794</td><td style = \"text-align: right;\">1.4193</td><td style = \"text-align: right;\">1.46356</td><td style = \"text-align: right;\">1.49984</td><td style = \"text-align: right;\">1.34631</td><td style = \"text-align: right;\">1.57001</td><td style = \"text-align: right;\">1.48257</td><td style = \"text-align: right;\">1.49265</td><td style = \"text-align: right;\">1.41048</td><td style = \"text-align: right;\">1.44401</td><td style = \"text-align: right;\">1.51516</td><td style = \"text-align: right;\">1.30814</td><td style = \"text-align: right;\">1.53533</td><td style = \"text-align: right;\">1.62798</td><td style = \"text-align: right;\">1.33284</td><td style = \"text-align: right;\">1.25456</td><td style = \"text-align: right;\">1.59874</td><td style = \"text-align: right;\">1.29768</td><td style = \"text-align: right;\">1.52671</td><td style = \"text-align: right;\">1.64791</td><td style = \"text-align: right;\">1.66298</td><td style = \"text-align: right;\">1.60965</td></tr><tr><td class = \"rowNumber\" style = \"font-weight: bold; text-align: right;\">9</td><td style = \"text-align: left;\">CONT-03</td><td style = \"text-align: right;\">3</td><td style = \"text-align: right;\">0</td><td style = \"text-align: right;\">1</td><td style = \"text-align: right;\">0.22898</td><td style = \"text-align: right;\">1.4978e-5</td><td style = \"text-align: right;\">0.0013751</td><td style = \"text-align: right;\">0.0016073</td><td style = \"text-align: right;\">0.02011</td><td style = \"text-align: right;\">0.17577</td><td style = \"text-align: right;\">0.010571</td><td style = \"text-align: right;\">0.013321</td><td style = \"text-align: right;\">0.016014</td><td style = \"text-align: right;\">80.512</td><td style = \"text-align: right;\">79.5572</td><td style = \"text-align: right;\">89.0846</td><td style = \"text-align: right;\">97.6222</td><td style = \"text-align: right;\">98.9459</td><td style = \"text-align: right;\">0.198171</td><td style = \"text-align: right;\">0.618928</td><td style = \"text-align: right;\">0.0821278</td><td style = \"text-align: right;\">0.960994</td><td style = \"text-align: right;\">1.42729</td><td style = \"text-align: right;\">1.61739</td><td style = \"text-align: right;\">1.43524</td><td style = \"text-align: right;\">1.47743</td><td style = \"text-align: right;\">1.51247</td><td style = \"text-align: right;\">1.5039</td><td style = \"text-align: right;\">1.46002</td><td style = \"text-align: right;\">1.31905</td><td style = \"text-align: right;\">1.45527</td><td style = \"text-align: right;\">1.31448</td><td style = \"text-align: right;\">1.59655</td><td style = \"text-align: right;\">1.37037</td><td style = \"text-align: right;\">1.44209</td><td style = \"text-align: right;\">1.40854</td><td style = \"text-align: right;\">1.35351</td><td style = \"text-align: right;\">1.62689</td><td style = \"text-align: right;\">1.62078</td><td style = \"text-align: right;\">1.43151</td><td style = \"text-align: right;\">1.59895</td><td style = \"text-align: right;\">1.39454</td><td style = \"text-align: right;\">1.45937</td><td style = \"text-align: right;\">1.31301</td><td style = \"text-align: right;\">1.44747</td><td style = \"text-align: right;\">1.3548</td><td style = \"text-align: right;\">1.58502</td><td style = \"text-align: right;\">1.33429</td></tr><tr><td class = \"rowNumber\" style = \"font-weight: bold; text-align: right;\">10</td><td style = \"text-align: left;\">CONT-04</td><td style = \"text-align: right;\">1</td><td style = \"text-align: right;\">0</td><td style = \"text-align: right;\">1</td><td style = \"text-align: right;\">1.31</td><td style = \"text-align: right;\">0.00010317</td><td style = \"text-align: right;\">0.0082445</td><td style = \"text-align: right;\">0.0062801</td><td style = \"text-align: right;\">0.030742</td><td style = \"text-align: right;\">0.27064</td><td style = \"text-align: right;\">0.01859</td><td style = \"text-align: right;\">0.016261</td><td style = \"text-align: right;\">0.020322</td><td style = \"text-align: right;\">68.625</td><td style = \"text-align: right;\">78.1844</td><td style = \"text-align: right;\">89.4945</td><td style = \"text-align: right;\">96.9187</td><td style = \"text-align: right;\">98.3105</td><td style = \"text-align: right;\">0.295354</td><td style = \"text-align: right;\">0.742847</td><td style = \"text-align: right;\">0.782381</td><td style = \"text-align: right;\">0.908291</td><td style = \"text-align: right;\">1.57714</td><td style = \"text-align: right;\">1.07301</td><td style = \"text-align: right;\">0.919767</td><td style = \"text-align: right;\">1.5474</td><td style = \"text-align: right;\">1.51442</td><td style = \"text-align: right;\">1.57197</td><td style = \"text-align: right;\">1.57352</td><td style = \"text-align: right;\">1.59258</td><td style = \"text-align: right;\">1.4944</td><td style = \"text-align: right;\">1.58513</td><td style = \"text-align: right;\">1.54063</td><td style = \"text-align: right;\">1.59188</td><td style = \"text-align: right;\">1.45478</td><td style = \"text-align: right;\">1.5986</td><td style = \"text-align: right;\">1.52645</td><td style = \"text-align: right;\">1.36291</td><td style = \"text-align: right;\">1.54101</td><td style = \"text-align: right;\">1.34702</td><td style = \"text-align: right;\">1.52615</td><td style = \"text-align: right;\">1.4285</td><td style = \"text-align: right;\">1.51613</td><td style = \"text-align: right;\">1.49168</td><td style = \"text-align: right;\">1.57952</td><td style = \"text-align: right;\">1.37458</td><td style = \"text-align: right;\">1.55064</td><td style = \"text-align: right;\">1.57282</td></tr><tr><td class = \"rowNumber\" style = \"font-weight: bold; text-align: right;\">11</td><td style = \"text-align: left;\">CONT-04</td><td style = \"text-align: right;\">2</td><td style = \"text-align: right;\">0</td><td style = \"text-align: right;\">1</td><td style = \"text-align: right;\">1.0647</td><td style = \"text-align: right;\">8.1987e-5</td><td style = \"text-align: right;\">0.0062989</td><td style = \"text-align: right;\">0.0059491</td><td style = \"text-align: right;\">0.023969</td><td style = \"text-align: right;\">0.21199</td><td style = \"text-align: right;\">0.013229</td><td style = \"text-align: right;\">0.013612</td><td style = \"text-align: right;\">0.020367</td><td style = \"text-align: right;\">82.3093</td><td style = \"text-align: right;\">90.617</td><td style = \"text-align: right;\">102.853</td><td style = \"text-align: right;\">109.931</td><td style = \"text-align: right;\">111.241</td><td style = \"text-align: right;\">0.291638</td><td style = \"text-align: right;\">0.766273</td><td style = \"text-align: right;\">0.655681</td><td style = \"text-align: right;\">0.905075</td><td style = \"text-align: right;\">1.54932</td><td style = \"text-align: right;\">1.60666</td><td style = \"text-align: right;\">1.59247</td><td style = \"text-align: right;\">1.53001</td><td style = \"text-align: right;\">1.61762</td><td style = \"text-align: right;\">1.54787</td><td style = \"text-align: right;\">1.59023</td><td style = \"text-align: right;\">1.509</td><td style = \"text-align: right;\">1.45387</td><td style = \"text-align: right;\">1.51945</td><td style = \"text-align: right;\">1.53584</td><td style = \"text-align: right;\">1.56697</td><td style = \"text-align: right;\">1.56064</td><td style = \"text-align: right;\">1.54982</td><td style = \"text-align: right;\">1.51202</td><td style = \"text-align: right;\">1.4624</td><td style = \"text-align: right;\">1.39627</td><td style = \"text-align: right;\">1.4243</td><td style = \"text-align: right;\">1.44239</td><td style = \"text-align: right;\">1.43773</td><td style = \"text-align: right;\">1.53168</td><td style = \"text-align: right;\">1.4535</td><td style = \"text-align: right;\">1.55559</td><td style = \"text-align: right;\">1.19533</td><td style = \"text-align: right;\">1.55514</td><td style = \"text-align: right;\">1.69532</td></tr><tr><td class = \"rowNumber\" style = \"font-weight: bold; text-align: right;\">12</td><td style = \"text-align: left;\">CONT-04</td><td style = \"text-align: right;\">3</td><td style = \"text-align: right;\">0</td><td style = \"text-align: right;\">1</td><td style = \"text-align: right;\">1.0417</td><td style = \"text-align: right;\">8.1777e-5</td><td style = \"text-align: right;\">0.0060929</td><td style = \"text-align: right;\">0.006277</td><td style = \"text-align: right;\">0.022837</td><td style = \"text-align: right;\">0.19999</td><td style = \"text-align: right;\">0.012346</td><td style = \"text-align: right;\">0.013613</td><td style = \"text-align: right;\">0.018777</td><td style = \"text-align: right;\">75.6268</td><td style = \"text-align: right;\">85.543</td><td style = \"text-align: right;\">97.5927</td><td style = \"text-align: right;\">105.003</td><td style = \"text-align: right;\">106.331</td><td style = \"text-align: right;\">0.289788</td><td style = \"text-align: right;\">0.765274</td><td style = \"text-align: right;\">0.818847</td><td style = \"text-align: right;\">0.868118</td><td style = \"text-align: right;\">1.66658</td><td style = \"text-align: right;\">1.70949</td><td style = \"text-align: right;\">1.70983</td><td style = \"text-align: right;\">1.73775</td><td style = \"text-align: right;\">1.7129</td><td style = \"text-align: right;\">1.67876</td><td style = \"text-align: right;\">1.33885</td><td style = \"text-align: right;\">1.50162</td><td style = \"text-align: right;\">1.61655</td><td style = \"text-align: right;\">1.77935</td><td style = \"text-align: right;\">1.69328</td><td style = \"text-align: right;\">1.72903</td><td style = \"text-align: right;\">1.67434</td><td style = \"text-align: right;\">1.66691</td><td style = \"text-align: right;\">1.55485</td><td style = \"text-align: right;\">1.54093</td><td style = \"text-align: right;\">1.61567</td><td style = \"text-align: right;\">1.57026</td><td style = \"text-align: right;\">1.636</td><td style = \"text-align: right;\">1.53577</td><td style = \"text-align: right;\">1.71229</td><td style = \"text-align: right;\">1.45057</td><td style = \"text-align: right;\">1.7731</td><td style = \"text-align: right;\">1.5295</td><td style = \"text-align: right;\">1.76017</td><td style = \"text-align: right;\">1.47854</td></tr><tr><td class = \"rowNumber\" style = \"font-weight: bold; text-align: right;\">13</td><td style = \"text-align: left;\">CONT-05</td><td style = \"text-align: right;\">1</td><td style = \"text-align: right;\">0</td><td style = \"text-align: right;\">0</td><td style = \"text-align: right;\">0.78955</td><td style = \"text-align: right;\">0.00010252</td><td style = \"text-align: right;\">0.0042382</td><td style = \"text-align: right;\">0.0045742</td><td style = \"text-align: right;\">0.039162</td><td style = \"text-align: right;\">0.33289</td><td style = \"text-align: right;\">0.021275</td><td style = \"text-align: right;\">0.024791</td><td style = \"text-align: right;\">0.034528</td><td style = \"text-align: right;\">78.973</td><td style = \"text-align: right;\">92.2133</td><td style = \"text-align: right;\">105.367</td><td style = \"text-align: right;\">113.154</td><td style = \"text-align: right;\">114.812</td><td style = \"text-align: right;\">0.319257</td><td style = \"text-align: right;\">0.766889</td><td style = \"text-align: right;\">0.256553</td><td style = \"text-align: right;\">0.912782</td><td style = \"text-align: right;\">1.37348</td><td style = \"text-align: right;\">1.25123</td><td style = \"text-align: right;\">1.54013</td><td style = \"text-align: right;\">1.55216</td><td style = \"text-align: right;\">1.74779</td><td style = \"text-align: right;\">1.68655</td><td style = \"text-align: right;\">1.30261</td><td style = \"text-align: right;\">1.35167</td><td style = \"text-align: right;\">1.35187</td><td style = \"text-align: right;\">1.26038</td><td style = \"text-align: right;\">1.48355</td><td style = \"text-align: right;\">1.49843</td><td style = \"text-align: right;\">1.56719</td><td style = \"text-align: right;\">1.64083</td><td style = \"text-align: right;\">1.33434</td><td style = \"text-align: right;\">1.39778</td><td style = \"text-align: right;\">1.34605</td><td style = \"text-align: right;\">1.22165</td><td style = \"text-align: right;\">1.4411</td><td style = \"text-align: right;\">1.51841</td><td style = \"text-align: right;\">1.5843</td><td style = \"text-align: right;\">1.62855</td><td style = \"text-align: right;\">1.38567</td><td style = \"text-align: right;\">1.4261</td><td style = \"text-align: right;\">1.51508</td><td style = \"text-align: right;\">1.30507</td></tr><tr><td style = \"text-align: right;\">&vellip;</td><td style = \"text-align: right;\">&vellip;</td><td style = \"text-align: right;\">&vellip;</td><td style = \"text-align: right;\">&vellip;</td><td style = \"text-align: right;\">&vellip;</td><td style = \"text-align: right;\">&vellip;</td><td style = \"text-align: right;\">&vellip;</td><td style = \"text-align: right;\">&vellip;</td><td style = \"text-align: right;\">&vellip;</td><td style = \"text-align: right;\">&vellip;</td><td style = \"text-align: right;\">&vellip;</td><td style = \"text-align: right;\">&vellip;</td><td style = \"text-align: right;\">&vellip;</td><td style = \"text-align: right;\">&vellip;</td><td style = \"text-align: right;\">&vellip;</td><td style = \"text-align: right;\">&vellip;</td><td style = \"text-align: right;\">&vellip;</td><td style = \"text-align: right;\">&vellip;</td><td style = \"text-align: right;\">&vellip;</td><td style = \"text-align: right;\">&vellip;</td><td style = \"text-align: right;\">&vellip;</td><td style = \"text-align: right;\">&vellip;</td><td style = \"text-align: right;\">&vellip;</td><td style = \"text-align: right;\">&vellip;</td><td style = \"text-align: right;\">&vellip;</td><td style = \"text-align: right;\">&vellip;</td><td style = \"text-align: right;\">&vellip;</td><td style = \"text-align: right;\">&vellip;</td><td style = \"text-align: right;\">&vellip;</td><td style = \"text-align: right;\">&vellip;</td><td style = \"text-align: right;\">&vellip;</td><td style = \"text-align: right;\">&vellip;</td><td style = \"text-align: right;\">&vellip;</td><td style = \"text-align: right;\">&vellip;</td><td style = \"text-align: right;\">&vellip;</td><td style = \"text-align: right;\">&vellip;</td><td style = \"text-align: right;\">&vellip;</td><td style = \"text-align: right;\">&vellip;</td><td style = \"text-align: right;\">&vellip;</td><td style = \"text-align: right;\">&vellip;</td><td style = \"text-align: right;\">&vellip;</td><td style = \"text-align: right;\">&vellip;</td><td style = \"text-align: right;\">&vellip;</td><td style = \"text-align: right;\">&vellip;</td><td style = \"text-align: right;\">&vellip;</td><td style = \"text-align: right;\">&vellip;</td><td style = \"text-align: right;\">&vellip;</td><td style = \"text-align: right;\">&vellip;</td><td style = \"text-align: right;\">&vellip;</td></tr><tr><td class = \"rowNumber\" style = \"font-weight: bold; text-align: right;\">229</td><td style = \"text-align: left;\">PARK-37</td><td style = \"text-align: right;\">1</td><td style = \"text-align: right;\">1</td><td style = \"text-align: right;\">1</td><td style = \"text-align: right;\">0.64831</td><td style = \"text-align: right;\">4.1553e-5</td><td style = \"text-align: right;\">0.0035105</td><td style = \"text-align: right;\">0.0036261</td><td style = \"text-align: right;\">0.039959</td><td style = \"text-align: right;\">0.3505</td><td style = \"text-align: right;\">0.022239</td><td style = \"text-align: right;\">0.025588</td><td style = \"text-align: right;\">0.030055</td><td style = \"text-align: right;\">58.0662</td><td style = \"text-align: right;\">62.9339</td><td style = \"text-align: right;\">76.0347</td><td style = \"text-align: right;\">79.769</td><td style = \"text-align: right;\">81.1255</td><td style = \"text-align: right;\">0.296943</td><td style = \"text-align: right;\">0.637188</td><td style = \"text-align: right;\">0.246862</td><td style = \"text-align: right;\">0.875786</td><td style = \"text-align: right;\">1.30105</td><td style = \"text-align: right;\">1.37984</td><td style = \"text-align: right;\">1.17987</td><td style = \"text-align: right;\">1.34935</td><td style = \"text-align: right;\">1.41046</td><td style = \"text-align: right;\">1.36824</td><td style = \"text-align: right;\">1.17695</td><td style = \"text-align: right;\">1.41373</td><td style = \"text-align: right;\">1.18102</td><td style = \"text-align: right;\">1.3455</td><td style = \"text-align: right;\">1.36984</td><td style = \"text-align: right;\">1.27609</td><td style = \"text-align: right;\">1.11302</td><td style = \"text-align: right;\">1.36851</td><td style = \"text-align: right;\">1.13255</td><td style = \"text-align: right;\">1.3228</td><td style = \"text-align: right;\">1.33289</td><td style = \"text-align: right;\">1.30081</td><td style = \"text-align: right;\">1.38413</td><td style = \"text-align: right;\">1.33094</td><td style = \"text-align: right;\">1.42479</td><td style = \"text-align: right;\">1.22045</td><td style = \"text-align: right;\">1.26814</td><td style = \"text-align: right;\">1.39014</td><td style = \"text-align: right;\">1.20441</td><td style = \"text-align: right;\">1.19403</td></tr><tr><td class = \"rowNumber\" style = \"font-weight: bold; text-align: right;\">230</td><td style = \"text-align: left;\">PARK-37</td><td style = \"text-align: right;\">2</td><td style = \"text-align: right;\">1</td><td style = \"text-align: right;\">1</td><td style = \"text-align: right;\">0.52051</td><td style = \"text-align: right;\">3.3141e-5</td><td style = \"text-align: right;\">0.0026489</td><td style = \"text-align: right;\">0.0031325</td><td style = \"text-align: right;\">0.051717</td><td style = \"text-align: right;\">0.44939</td><td style = \"text-align: right;\">0.029466</td><td style = \"text-align: right;\">0.031566</td><td style = \"text-align: right;\">0.035115</td><td style = \"text-align: right;\">53.0446</td><td style = \"text-align: right;\">58.2347</td><td style = \"text-align: right;\">70.2594</td><td style = \"text-align: right;\">74.3146</td><td style = \"text-align: right;\">75.7029</td><td style = \"text-align: right;\">0.310884</td><td style = \"text-align: right;\">0.647306</td><td style = \"text-align: right;\">0.24995</td><td style = \"text-align: right;\">0.871171</td><td style = \"text-align: right;\">1.16908</td><td style = \"text-align: right;\">1.24027</td><td style = \"text-align: right;\">1.26376</td><td style = \"text-align: right;\">1.28023</td><td style = \"text-align: right;\">1.33965</td><td style = \"text-align: right;\">1.14358</td><td style = \"text-align: right;\">1.28898</td><td style = \"text-align: right;\">1.13032</td><td style = \"text-align: right;\">1.12131</td><td style = \"text-align: right;\">1.24814</td><td style = \"text-align: right;\">1.17928</td><td style = \"text-align: right;\">1.17215</td><td style = \"text-align: right;\">1.23872</td><td style = \"text-align: right;\">1.23412</td><td style = \"text-align: right;\">1.31408</td><td style = \"text-align: right;\">1.17976</td><td style = \"text-align: right;\">1.14861</td><td style = \"text-align: right;\">1.30581</td><td style = \"text-align: right;\">1.1546</td><td style = \"text-align: right;\">1.13201</td><td style = \"text-align: right;\">1.28554</td><td style = \"text-align: right;\">1.16608</td><td style = \"text-align: right;\">1.07199</td><td style = \"text-align: right;\">1.26115</td><td style = \"text-align: right;\">1.02993</td><td style = \"text-align: right;\">1.23832</td></tr><tr><td class = \"rowNumber\" style = \"font-weight: bold; text-align: right;\">231</td><td style = \"text-align: left;\">PARK-37</td><td style = \"text-align: right;\">3</td><td style = \"text-align: right;\">1</td><td style = \"text-align: right;\">1</td><td style = \"text-align: right;\">1.1783</td><td style = \"text-align: right;\">7.0129e-5</td><td style = \"text-align: right;\">0.0071121</td><td style = \"text-align: right;\">0.0063336</td><td style = \"text-align: right;\">0.14911</td><td style = \"text-align: right;\">1.3756</td><td style = \"text-align: right;\">0.093485</td><td style = \"text-align: right;\">0.077903</td><td style = \"text-align: right;\">0.084238</td><td style = \"text-align: right;\">50.7465</td><td style = \"text-align: right;\">54.6311</td><td style = \"text-align: right;\">67.9729</td><td style = \"text-align: right;\">72.1623</td><td style = \"text-align: right;\">73.3901</td><td style = \"text-align: right;\">0.44899</td><td style = \"text-align: right;\">0.620689</td><td style = \"text-align: right;\">0.369285</td><td style = \"text-align: right;\">0.862052</td><td style = \"text-align: right;\">1.38602</td><td style = \"text-align: right;\">1.27383</td><td style = \"text-align: right;\">1.36055</td><td style = \"text-align: right;\">1.31867</td><td style = \"text-align: right;\">1.36356</td><td style = \"text-align: right;\">1.4112</td><td style = \"text-align: right;\">1.42939</td><td style = \"text-align: right;\">1.38322</td><td style = \"text-align: right;\">1.31718</td><td style = \"text-align: right;\">1.27299</td><td style = \"text-align: right;\">1.3284</td><td style = \"text-align: right;\">1.35106</td><td style = \"text-align: right;\">1.18746</td><td style = \"text-align: right;\">1.26415</td><td style = \"text-align: right;\">1.41148</td><td style = \"text-align: right;\">1.37717</td><td style = \"text-align: right;\">1.2626</td><td style = \"text-align: right;\">1.26702</td><td style = \"text-align: right;\">1.25572</td><td style = \"text-align: right;\">1.25248</td><td style = \"text-align: right;\">1.27505</td><td style = \"text-align: right;\">1.31475</td><td style = \"text-align: right;\">1.37209</td><td style = \"text-align: right;\">1.35512</td><td style = \"text-align: right;\">1.33758</td><td style = \"text-align: right;\">1.39135</td></tr><tr><td class = \"rowNumber\" style = \"font-weight: bold; text-align: right;\">232</td><td style = \"text-align: left;\">PARK-38</td><td style = \"text-align: right;\">1</td><td style = \"text-align: right;\">1</td><td style = \"text-align: right;\">1</td><td style = \"text-align: right;\">0.19979</td><td style = \"text-align: right;\">1.284e-5</td><td style = \"text-align: right;\">0.0010996</td><td style = \"text-align: right;\">0.0013264</td><td style = \"text-align: right;\">0.024832</td><td style = \"text-align: right;\">0.21595</td><td style = \"text-align: right;\">0.013854</td><td style = \"text-align: right;\">0.015758</td><td style = \"text-align: right;\">0.019423</td><td style = \"text-align: right;\">46.342</td><td style = \"text-align: right;\">45.9065</td><td style = \"text-align: right;\">55.2026</td><td style = \"text-align: right;\">60.5452</td><td style = \"text-align: right;\">62.0599</td><td style = \"text-align: right;\">0.26523</td><td style = \"text-align: right;\">0.566397</td><td style = \"text-align: right;\">0.0290923</td><td style = \"text-align: right;\">0.961967</td><td style = \"text-align: right;\">1.21478</td><td style = \"text-align: right;\">0.734837</td><td style = \"text-align: right;\">0.580909</td><td style = \"text-align: right;\">1.3477</td><td style = \"text-align: right;\">1.31698</td><td style = \"text-align: right;\">1.26113</td><td style = \"text-align: right;\">1.25719</td><td style = \"text-align: right;\">1.28673</td><td style = \"text-align: right;\">1.25045</td><td style = \"text-align: right;\">1.34545</td><td style = \"text-align: right;\">1.36935</td><td style = \"text-align: right;\">1.11198</td><td style = \"text-align: right;\">1.27993</td><td style = \"text-align: right;\">1.0967</td><td style = \"text-align: right;\">1.32337</td><td style = \"text-align: right;\">1.25103</td><td style = \"text-align: right;\">1.18643</td><td style = \"text-align: right;\">1.20038</td><td style = \"text-align: right;\">1.22744</td><td style = \"text-align: right;\">1.12718</td><td style = \"text-align: right;\">1.35366</td><td style = \"text-align: right;\">1.3214</td><td style = \"text-align: right;\">1.40826</td><td style = \"text-align: right;\">1.34307</td><td style = \"text-align: right;\">1.42547</td><td style = \"text-align: right;\">1.22676</td></tr><tr><td class = \"rowNumber\" style = \"font-weight: bold; text-align: right;\">233</td><td style = \"text-align: left;\">PARK-38</td><td style = \"text-align: right;\">2</td><td style = \"text-align: right;\">1</td><td style = \"text-align: right;\">1</td><td style = \"text-align: right;\">0.27423</td><td style = \"text-align: right;\">1.6743e-5</td><td style = \"text-align: right;\">0.0016142</td><td style = \"text-align: right;\">0.0016667</td><td style = \"text-align: right;\">0.027818</td><td style = \"text-align: right;\">0.23959</td><td style = \"text-align: right;\">0.015717</td><td style = \"text-align: right;\">0.017305</td><td style = \"text-align: right;\">0.021003</td><td style = \"text-align: right;\">36.6322</td><td style = \"text-align: right;\">39.1154</td><td style = \"text-align: right;\">48.0109</td><td style = \"text-align: right;\">52.5228</td><td style = \"text-align: right;\">53.4734</td><td style = \"text-align: right;\">0.33427</td><td style = \"text-align: right;\">0.609146</td><td style = \"text-align: right;\">0.0311846</td><td style = \"text-align: right;\">0.890491</td><td style = \"text-align: right;\">0.981176</td><td style = \"text-align: right;\">0.975766</td><td style = \"text-align: right;\">1.00945</td><td style = \"text-align: right;\">0.983601</td><td style = \"text-align: right;\">1.03366</td><td style = \"text-align: right;\">0.989837</td><td style = \"text-align: right;\">0.976308</td><td style = \"text-align: right;\">1.02298</td><td style = \"text-align: right;\">0.995156</td><td style = \"text-align: right;\">0.996995</td><td style = \"text-align: right;\">0.979637</td><td style = \"text-align: right;\">1.03773</td><td style = \"text-align: right;\">0.976547</td><td style = \"text-align: right;\">1.03911</td><td style = \"text-align: right;\">0.995656</td><td style = \"text-align: right;\">1.0239</td><td style = \"text-align: right;\">1.00177</td><td style = \"text-align: right;\">1.01086</td><td style = \"text-align: right;\">1.01708</td><td style = \"text-align: right;\">1.01821</td><td style = \"text-align: right;\">1.03344</td><td style = \"text-align: right;\">1.06957</td><td style = \"text-align: right;\">1.07758</td><td style = \"text-align: right;\">0.959991</td><td style = \"text-align: right;\">1.01057</td><td style = \"text-align: right;\">0.997155</td></tr><tr><td class = \"rowNumber\" style = \"font-weight: bold; text-align: right;\">234</td><td style = \"text-align: left;\">PARK-38</td><td style = \"text-align: right;\">3</td><td style = \"text-align: right;\">1</td><td style = \"text-align: right;\">1</td><td style = \"text-align: right;\">0.24443</td><td style = \"text-align: right;\">1.4914e-5</td><td style = \"text-align: right;\">0.0013755</td><td style = \"text-align: right;\">0.0015397</td><td style = \"text-align: right;\">0.033357</td><td style = \"text-align: right;\">0.28749</td><td style = \"text-align: right;\">0.019713</td><td style = \"text-align: right;\">0.019954</td><td style = \"text-align: right;\">0.021625</td><td style = \"text-align: right;\">34.1479</td><td style = \"text-align: right;\">36.34</td><td style = \"text-align: right;\">44.9091</td><td style = \"text-align: right;\">49.8326</td><td style = \"text-align: right;\">50.9385</td><td style = \"text-align: right;\">0.310666</td><td style = \"text-align: right;\">0.577338</td><td style = \"text-align: right;\">0.00571132</td><td style = \"text-align: right;\">0.909206</td><td style = \"text-align: right;\">1.13414</td><td style = \"text-align: right;\">1.15078</td><td style = \"text-align: right;\">1.05078</td><td style = \"text-align: right;\">1.12585</td><td style = \"text-align: right;\">1.08595</td><td style = \"text-align: right;\">1.09629</td><td style = \"text-align: right;\">1.12502</td><td style = \"text-align: right;\">1.13133</td><td style = \"text-align: right;\">1.15166</td><td style = \"text-align: right;\">1.1328</td><td style = \"text-align: right;\">1.11279</td><td style = \"text-align: right;\">1.08093</td><td style = \"text-align: right;\">1.1316</td><td style = \"text-align: right;\">1.14287</td><td style = \"text-align: right;\">1.08481</td><td style = \"text-align: right;\">1.10498</td><td style = \"text-align: right;\">1.14562</td><td style = \"text-align: right;\">1.11257</td><td style = \"text-align: right;\">1.08193</td><td style = \"text-align: right;\">1.09912</td><td style = \"text-align: right;\">1.10618</td><td style = \"text-align: right;\">1.11738</td><td style = \"text-align: right;\">1.1149</td><td style = \"text-align: right;\">1.14944</td><td style = \"text-align: right;\">1.11787</td><td style = \"text-align: right;\">1.09105</td></tr><tr><td class = \"rowNumber\" style = \"font-weight: bold; text-align: right;\">235</td><td style = \"text-align: left;\">PARK-39</td><td style = \"text-align: right;\">1</td><td style = \"text-align: right;\">1</td><td style = \"text-align: right;\">0</td><td style = \"text-align: right;\">0.287</td><td style = \"text-align: right;\">1.8129e-5</td><td style = \"text-align: right;\">0.0016046</td><td style = \"text-align: right;\">0.0017407</td><td style = \"text-align: right;\">0.013511</td><td style = \"text-align: right;\">0.11953</td><td style = \"text-align: right;\">0.007339</td><td style = \"text-align: right;\">0.0081477</td><td style = \"text-align: right;\">0.010865</td><td style = \"text-align: right;\">30.0266</td><td style = \"text-align: right;\">31.7569</td><td style = \"text-align: right;\">40.4019</td><td style = \"text-align: right;\">46.4477</td><td style = \"text-align: right;\">47.384</td><td style = \"text-align: right;\">0.297468</td><td style = \"text-align: right;\">0.59753</td><td style = \"text-align: right;\">0.0117912</td><td style = \"text-align: right;\">0.964971</td><td style = \"text-align: right;\">1.11926</td><td style = \"text-align: right;\">1.10131</td><td style = \"text-align: right;\">1.1009</td><td style = \"text-align: right;\">1.14501</td><td style = \"text-align: right;\">1.15516</td><td style = \"text-align: right;\">1.14002</td><td style = \"text-align: right;\">1.14895</td><td style = \"text-align: right;\">1.15126</td><td style = \"text-align: right;\">1.15546</td><td style = \"text-align: right;\">1.14707</td><td style = \"text-align: right;\">1.1303</td><td style = \"text-align: right;\">1.14266</td><td style = \"text-align: right;\">1.13931</td><td style = \"text-align: right;\">1.12024</td><td style = \"text-align: right;\">1.12759</td><td style = \"text-align: right;\">1.15466</td><td style = \"text-align: right;\">1.13267</td><td style = \"text-align: right;\">1.13763</td><td style = \"text-align: right;\">1.13086</td><td style = \"text-align: right;\">1.10626</td><td style = \"text-align: right;\">1.09068</td><td style = \"text-align: right;\">1.09202</td><td style = \"text-align: right;\">1.11016</td><td style = \"text-align: right;\">1.09861</td><td style = \"text-align: right;\">1.11294</td><td style = \"text-align: right;\">1.09724</td></tr><tr><td class = \"rowNumber\" style = \"font-weight: bold; text-align: right;\">236</td><td style = \"text-align: left;\">PARK-39</td><td style = \"text-align: right;\">2</td><td style = \"text-align: right;\">1</td><td style = \"text-align: right;\">0</td><td style = \"text-align: right;\">0.57585</td><td style = \"text-align: right;\">3.6944e-5</td><td style = \"text-align: right;\">0.003701</td><td style = \"text-align: right;\">0.0051491</td><td style = \"text-align: right;\">0.016868</td><td style = \"text-align: right;\">0.14928</td><td style = \"text-align: right;\">0.0088346</td><td style = \"text-align: right;\">0.010232</td><td style = \"text-align: right;\">0.015297</td><td style = \"text-align: right;\">28.5308</td><td style = \"text-align: right;\">28.6253</td><td style = \"text-align: right;\">37.7785</td><td style = \"text-align: right;\">43.1653</td><td style = \"text-align: right;\">44.0858</td><td style = \"text-align: right;\">0.215651</td><td style = \"text-align: right;\">0.593082</td><td style = \"text-align: right;\">0.167809</td><td style = \"text-align: right;\">0.930245</td><td style = \"text-align: right;\">1.14573</td><td style = \"text-align: right;\">1.14363</td><td style = \"text-align: right;\">1.11753</td><td style = \"text-align: right;\">1.14951</td><td style = \"text-align: right;\">1.13702</td><td style = \"text-align: right;\">1.14631</td><td style = \"text-align: right;\">1.13707</td><td style = \"text-align: right;\">1.12208</td><td style = \"text-align: right;\">1.17027</td><td style = \"text-align: right;\">1.11293</td><td style = \"text-align: right;\">1.13491</td><td style = \"text-align: right;\">1.12765</td><td style = \"text-align: right;\">1.07103</td><td style = \"text-align: right;\">1.11165</td><td style = \"text-align: right;\">1.08472</td><td style = \"text-align: right;\">1.14906</td><td style = \"text-align: right;\">1.11641</td><td style = \"text-align: right;\">1.10451</td><td style = \"text-align: right;\">1.09987</td><td style = \"text-align: right;\">1.08032</td><td style = \"text-align: right;\">1.15406</td><td style = \"text-align: right;\">1.11742</td><td style = \"text-align: right;\">1.16708</td><td style = \"text-align: right;\">1.13244</td><td style = \"text-align: right;\">1.10782</td><td style = \"text-align: right;\">1.10914</td></tr><tr><td class = \"rowNumber\" style = \"font-weight: bold; text-align: right;\">237</td><td style = \"text-align: left;\">PARK-39</td><td style = \"text-align: right;\">3</td><td style = \"text-align: right;\">1</td><td style = \"text-align: right;\">0</td><td style = \"text-align: right;\">0.23322</td><td style = \"text-align: right;\">1.4656e-5</td><td style = \"text-align: right;\">0.0012704</td><td style = \"text-align: right;\">0.0014971</td><td style = \"text-align: right;\">0.017923</td><td style = \"text-align: right;\">0.1672</td><td style = \"text-align: right;\">0.0084361</td><td style = \"text-align: right;\">0.011578</td><td style = \"text-align: right;\">0.015473</td><td style = \"text-align: right;\">33.6172</td><td style = \"text-align: right;\">36.2646</td><td style = \"text-align: right;\">45.5268</td><td style = \"text-align: right;\">52.1351</td><td style = \"text-align: right;\">53.4176</td><td style = \"text-align: right;\">0.220526</td><td style = \"text-align: right;\">0.570358</td><td style = \"text-align: right;\">0.246111</td><td style = \"text-align: right;\">0.959233</td><td style = \"text-align: right;\">1.09707</td><td style = \"text-align: right;\">1.11739</td><td style = \"text-align: right;\">1.10243</td><td style = \"text-align: right;\">1.10899</td><td style = \"text-align: right;\">1.10153</td><td style = \"text-align: right;\">1.05511</td><td style = \"text-align: right;\">1.09383</td><td style = \"text-align: right;\">1.09777</td><td style = \"text-align: right;\">1.09296</td><td style = \"text-align: right;\">1.09981</td><td style = \"text-align: right;\">1.11968</td><td style = \"text-align: right;\">1.04867</td><td style = \"text-align: right;\">1.11283</td><td style = \"text-align: right;\">1.11296</td><td style = \"text-align: right;\">1.13045</td><td style = \"text-align: right;\">1.05724</td><td style = \"text-align: right;\">1.10748</td><td style = \"text-align: right;\">1.08386</td><td style = \"text-align: right;\">1.10182</td><td style = \"text-align: right;\">1.11416</td><td style = \"text-align: right;\">1.09009</td><td style = \"text-align: right;\">1.14071</td><td style = \"text-align: right;\">1.12667</td><td style = \"text-align: right;\">1.15844</td><td style = \"text-align: right;\">1.09607</td><td style = \"text-align: right;\">1.14184</td></tr><tr><td class = \"rowNumber\" style = \"font-weight: bold; text-align: right;\">238</td><td style = \"text-align: left;\">PARK-40</td><td style = \"text-align: right;\">1</td><td style = \"text-align: right;\">1</td><td style = \"text-align: right;\">0</td><td style = \"text-align: right;\">0.26862</td><td style = \"text-align: right;\">2.2075e-5</td><td style = \"text-align: right;\">0.0013537</td><td style = \"text-align: right;\">0.001615</td><td style = \"text-align: right;\">0.02804</td><td style = \"text-align: right;\">0.24182</td><td style = \"text-align: right;\">0.015937</td><td style = \"text-align: right;\">0.015441</td><td style = \"text-align: right;\">0.021133</td><td style = \"text-align: right;\">56.8532</td><td style = \"text-align: right;\">64.6635</td><td style = \"text-align: right;\">76.6108</td><td style = \"text-align: right;\">82.7945</td><td style = \"text-align: right;\">83.5099</td><td style = \"text-align: right;\">0.263589</td><td style = \"text-align: right;\">0.652365</td><td style = \"text-align: right;\">0.711209</td><td style = \"text-align: right;\">0.914342</td><td style = \"text-align: right;\">1.37291</td><td style = \"text-align: right;\">1.35179</td><td style = \"text-align: right;\">1.36251</td><td style = \"text-align: right;\">1.36746</td><td style = \"text-align: right;\">1.27421</td><td style = \"text-align: right;\">1.36469</td><td style = \"text-align: right;\">1.38461</td><td style = \"text-align: right;\">1.27068</td><td style = \"text-align: right;\">1.38787</td><td style = \"text-align: right;\">1.36899</td><td style = \"text-align: right;\">1.39119</td><td style = \"text-align: right;\">1.31097</td><td style = \"text-align: right;\">1.34173</td><td style = \"text-align: right;\">1.28378</td><td style = \"text-align: right;\">1.3706</td><td style = \"text-align: right;\">1.41087</td><td style = \"text-align: right;\">1.33519</td><td style = \"text-align: right;\">1.38558</td><td style = \"text-align: right;\">1.28155</td><td style = \"text-align: right;\">1.36717</td><td style = \"text-align: right;\">1.31906</td><td style = \"text-align: right;\">1.36709</td><td style = \"text-align: right;\">1.34319</td><td style = \"text-align: right;\">1.37433</td><td style = \"text-align: right;\">1.38336</td><td style = \"text-align: right;\">1.45641</td></tr><tr><td class = \"rowNumber\" style = \"font-weight: bold; text-align: right;\">239</td><td style = \"text-align: left;\">PARK-40</td><td style = \"text-align: right;\">2</td><td style = \"text-align: right;\">1</td><td style = \"text-align: right;\">0</td><td style = \"text-align: right;\">0.45376</td><td style = \"text-align: right;\">3.6545e-5</td><td style = \"text-align: right;\">0.0027241</td><td style = \"text-align: right;\">0.0022579</td><td style = \"text-align: right;\">0.064605</td><td style = \"text-align: right;\">0.58002</td><td style = \"text-align: right;\">0.041295</td><td style = \"text-align: right;\">0.027626</td><td style = \"text-align: right;\">0.03765</td><td style = \"text-align: right;\">60.0969</td><td style = \"text-align: right;\">67.5627</td><td style = \"text-align: right;\">79.7136</td><td style = \"text-align: right;\">86.8268</td><td style = \"text-align: right;\">87.3829</td><td style = \"text-align: right;\">0.341671</td><td style = \"text-align: right;\">0.638666</td><td style = \"text-align: right;\">0.736968</td><td style = \"text-align: right;\">0.903977</td><td style = \"text-align: right;\">1.2963</td><td style = \"text-align: right;\">1.26931</td><td style = \"text-align: right;\">1.31461</td><td style = \"text-align: right;\">1.33519</td><td style = \"text-align: right;\">1.31973</td><td style = \"text-align: right;\">1.348</td><td style = \"text-align: right;\">1.27297</td><td style = \"text-align: right;\">1.43699</td><td style = \"text-align: right;\">1.37764</td><td style = \"text-align: right;\">1.39679</td><td style = \"text-align: right;\">1.3295</td><td style = \"text-align: right;\">1.38537</td><td style = \"text-align: right;\">1.33199</td><td style = \"text-align: right;\">1.31349</td><td style = \"text-align: right;\">1.40272</td><td style = \"text-align: right;\">1.29508</td><td style = \"text-align: right;\">1.32763</td><td style = \"text-align: right;\">1.34993</td><td style = \"text-align: right;\">1.46132</td><td style = \"text-align: right;\">1.3506</td><td style = \"text-align: right;\">1.34636</td><td style = \"text-align: right;\">1.41534</td><td style = \"text-align: right;\">1.36194</td><td style = \"text-align: right;\">1.33192</td><td style = \"text-align: right;\">1.42306</td><td style = \"text-align: right;\">1.30735</td></tr><tr><td class = \"rowNumber\" style = \"font-weight: bold; text-align: right;\">240</td><td style = \"text-align: left;\">PARK-40</td><td style = \"text-align: right;\">3</td><td style = \"text-align: right;\">1</td><td style = \"text-align: right;\">0</td><td style = \"text-align: right;\">0.34706</td><td style = \"text-align: right;\">2.8177e-5</td><td style = \"text-align: right;\">0.0017456</td><td style = \"text-align: right;\">0.0020605</td><td style = \"text-align: right;\">0.019914</td><td style = \"text-align: right;\">0.17087</td><td style = \"text-align: right;\">0.01106</td><td style = \"text-align: right;\">0.012432</td><td style = \"text-align: right;\">0.015793</td><td style = \"text-align: right;\">56.5467</td><td style = \"text-align: right;\">63.1964</td><td style = \"text-align: right;\">75.0247</td><td style = \"text-align: right;\">81.6233</td><td style = \"text-align: right;\">82.4115</td><td style = \"text-align: right;\">0.253676</td><td style = \"text-align: right;\">0.623785</td><td style = \"text-align: right;\">0.637331</td><td style = \"text-align: right;\">0.921056</td><td style = \"text-align: right;\">1.37698</td><td style = \"text-align: right;\">1.36529</td><td style = \"text-align: right;\">1.35562</td><td style = \"text-align: right;\">1.28074</td><td style = \"text-align: right;\">1.411</td><td style = \"text-align: right;\">1.25565</td><td style = \"text-align: right;\">1.35258</td><td style = \"text-align: right;\">1.32389</td><td style = \"text-align: right;\">1.30525</td><td style = \"text-align: right;\">1.3776</td><td style = \"text-align: right;\">1.31057</td><td style = \"text-align: right;\">1.4557</td><td style = \"text-align: right;\">1.36689</td><td style = \"text-align: right;\">1.38681</td><td style = \"text-align: right;\">1.42123</td><td style = \"text-align: right;\">1.39227</td><td style = \"text-align: right;\">1.44</td><td style = \"text-align: right;\">1.32795</td><td style = \"text-align: right;\">1.53176</td><td style = \"text-align: right;\">1.4712</td><td style = \"text-align: right;\">1.44567</td><td style = \"text-align: right;\">1.41594</td><td style = \"text-align: right;\">1.30421</td><td style = \"text-align: right;\">1.39565</td><td style = \"text-align: right;\">1.31569</td><td style = \"text-align: right;\">1.42253</td></tr></tbody></table></div>"
      ],
      "text/latex": [
       "\\begin{tabular}{r|ccccccccc}\n",
       "\t& ID & Recording & Status & Gender & Jitter\\_rel & Jitter\\_abs & Jitter\\_RAP & Jitter\\_PPQ & \\\\\n",
       "\t\\hline\n",
       "\t& String7 & Int64 & Int64 & Int64 & Float64 & Float64 & Float64 & Float64 & \\\\\n",
       "\t\\hline\n",
       "\t1 & CONT-01 & 1 & 0 & 1 & 0.25546 & 1.4581e-5 & 0.001467 & 0.0016734 & $\\dots$ \\\\\n",
       "\t2 & CONT-01 & 2 & 0 & 1 & 0.36964 & 2.1662e-5 & 0.0019317 & 0.0022446 & $\\dots$ \\\\\n",
       "\t3 & CONT-01 & 3 & 0 & 1 & 0.23514 & 1.3109e-5 & 0.0013527 & 0.0015465 & $\\dots$ \\\\\n",
       "\t4 & CONT-02 & 1 & 0 & 0 & 0.2932 & 1.7331e-5 & 0.0011048 & 0.0014443 & $\\dots$ \\\\\n",
       "\t5 & CONT-02 & 2 & 0 & 0 & 0.23075 & 1.4561e-5 & 0.0010729 & 0.0014043 & $\\dots$ \\\\\n",
       "\t6 & CONT-02 & 3 & 0 & 0 & 0.16489 & 1.0011e-5 & 0.00081887 & 0.0011912 & $\\dots$ \\\\\n",
       "\t7 & CONT-03 & 1 & 0 & 1 & 0.22506 & 1.4288e-5 & 0.0013581 & 0.0014599 & $\\dots$ \\\\\n",
       "\t8 & CONT-03 & 2 & 0 & 1 & 0.23086 & 1.4545e-5 & 0.0013486 & 0.0015459 & $\\dots$ \\\\\n",
       "\t9 & CONT-03 & 3 & 0 & 1 & 0.22898 & 1.4978e-5 & 0.0013751 & 0.0016073 & $\\dots$ \\\\\n",
       "\t10 & CONT-04 & 1 & 0 & 1 & 1.31 & 0.00010317 & 0.0082445 & 0.0062801 & $\\dots$ \\\\\n",
       "\t11 & CONT-04 & 2 & 0 & 1 & 1.0647 & 8.1987e-5 & 0.0062989 & 0.0059491 & $\\dots$ \\\\\n",
       "\t12 & CONT-04 & 3 & 0 & 1 & 1.0417 & 8.1777e-5 & 0.0060929 & 0.006277 & $\\dots$ \\\\\n",
       "\t13 & CONT-05 & 1 & 0 & 0 & 0.78955 & 0.00010252 & 0.0042382 & 0.0045742 & $\\dots$ \\\\\n",
       "\t14 & CONT-05 & 2 & 0 & 0 & 0.5301 & 6.8621e-5 & 0.0023786 & 0.0033674 & $\\dots$ \\\\\n",
       "\t15 & CONT-05 & 3 & 0 & 0 & 0.48444 & 6.3685e-5 & 0.0022722 & 0.0029482 & $\\dots$ \\\\\n",
       "\t16 & CONT-06 & 1 & 0 & 1 & 0.40538 & 2.7508e-5 & 0.0023285 & 0.0024892 & $\\dots$ \\\\\n",
       "\t17 & CONT-06 & 2 & 0 & 1 & 0.41475 & 2.8235e-5 & 0.0023402 & 0.0025758 & $\\dots$ \\\\\n",
       "\t18 & CONT-06 & 3 & 0 & 1 & 0.548 & 3.7106e-5 & 0.0032687 & 0.0034847 & $\\dots$ \\\\\n",
       "\t19 & CONT-07 & 1 & 0 & 0 & 0.5282 & 4.7834e-5 & 0.0026782 & 0.0032264 & $\\dots$ \\\\\n",
       "\t20 & CONT-07 & 2 & 0 & 0 & 0.643 & 6.0469e-5 & 0.0034625 & 0.003797 & $\\dots$ \\\\\n",
       "\t21 & CONT-07 & 3 & 0 & 0 & 0.45764 & 3.9862e-5 & 0.0024445 & 0.0029431 & $\\dots$ \\\\\n",
       "\t22 & CONT-08 & 1 & 0 & 1 & 0.58384 & 3.6612e-5 & 0.0033268 & 0.0035481 & $\\dots$ \\\\\n",
       "\t23 & CONT-08 & 2 & 0 & 1 & 0.63336 & 3.731e-5 & 0.0034783 & 0.0039116 & $\\dots$ \\\\\n",
       "\t24 & CONT-08 & 3 & 0 & 1 & 0.40757 & 2.3406e-5 & 0.0023018 & 0.0023893 & $\\dots$ \\\\\n",
       "\t25 & CONT-09 & 1 & 0 & 0 & 0.53376 & 6.2819e-5 & 0.0025473 & 0.0031426 & $\\dots$ \\\\\n",
       "\t26 & CONT-09 & 2 & 0 & 0 & 0.67959 & 7.8034e-5 & 0.0035645 & 0.0039947 & $\\dots$ \\\\\n",
       "\t27 & CONT-09 & 3 & 0 & 0 & 0.50328 & 5.6586e-5 & 0.0023299 & 0.0027938 & $\\dots$ \\\\\n",
       "\t28 & CONT-10 & 1 & 0 & 1 & 0.19235 & 9.73e-6 & 0.0011849 & 0.0014149 & $\\dots$ \\\\\n",
       "\t29 & CONT-10 & 2 & 0 & 1 & 0.2453 & 1.2444e-5 & 0.0014627 & 0.0017057 & $\\dots$ \\\\\n",
       "\t30 & CONT-10 & 3 & 0 & 1 & 0.20314 & 1.0535e-5 & 0.0010893 & 0.0014172 & $\\dots$ \\\\\n",
       "\t$\\dots$ & $\\dots$ & $\\dots$ & $\\dots$ & $\\dots$ & $\\dots$ & $\\dots$ & $\\dots$ & $\\dots$ &  \\\\\n",
       "\\end{tabular}\n"
      ],
      "text/plain": [
       "\u001b[1m240×48 DataFrame\u001b[0m\n",
       "\u001b[1m Row \u001b[0m│\u001b[1m ID      \u001b[0m\u001b[1m Recording \u001b[0m\u001b[1m Status \u001b[0m\u001b[1m Gender \u001b[0m\u001b[1m Jitter_rel \u001b[0m\u001b[1m Jitter_abs \u001b[0m\u001b[1m Jitter_RAP \u001b[0m\u001b[1m\u001b[0m ⋯\n",
       "     │\u001b[90m String7 \u001b[0m\u001b[90m Int64     \u001b[0m\u001b[90m Int64  \u001b[0m\u001b[90m Int64  \u001b[0m\u001b[90m Float64    \u001b[0m\u001b[90m Float64    \u001b[0m\u001b[90m Float64    \u001b[0m\u001b[90m\u001b[0m ⋯\n",
       "─────┼──────────────────────────────────────────────────────────────────────────\n",
       "   1 │ CONT-01          1       0       1     0.25546  1.4581e-5   0.001467    ⋯\n",
       "   2 │ CONT-01          2       0       1     0.36964  2.1662e-5   0.0019317\n",
       "   3 │ CONT-01          3       0       1     0.23514  1.3109e-5   0.0013527\n",
       "   4 │ CONT-02          1       0       0     0.2932   1.7331e-5   0.0011048\n",
       "   5 │ CONT-02          2       0       0     0.23075  1.4561e-5   0.0010729   ⋯\n",
       "   6 │ CONT-02          3       0       0     0.16489  1.0011e-5   0.00081887\n",
       "   7 │ CONT-03          1       0       1     0.22506  1.4288e-5   0.0013581\n",
       "   8 │ CONT-03          2       0       1     0.23086  1.4545e-5   0.0013486\n",
       "   9 │ CONT-03          3       0       1     0.22898  1.4978e-5   0.0013751   ⋯\n",
       "  10 │ CONT-04          1       0       1     1.31     0.00010317  0.0082445\n",
       "  11 │ CONT-04          2       0       1     1.0647   8.1987e-5   0.0062989\n",
       "  ⋮  │    ⋮         ⋮        ⋮       ⋮         ⋮           ⋮           ⋮       ⋱\n",
       " 231 │ PARK-37          3       1       1     1.1783   7.0129e-5   0.0071121\n",
       " 232 │ PARK-38          1       1       1     0.19979  1.284e-5    0.0010996   ⋯\n",
       " 233 │ PARK-38          2       1       1     0.27423  1.6743e-5   0.0016142\n",
       " 234 │ PARK-38          3       1       1     0.24443  1.4914e-5   0.0013755\n",
       " 235 │ PARK-39          1       1       0     0.287    1.8129e-5   0.0016046\n",
       " 236 │ PARK-39          2       1       0     0.57585  3.6944e-5   0.003701    ⋯\n",
       " 237 │ PARK-39          3       1       0     0.23322  1.4656e-5   0.0012704\n",
       " 238 │ PARK-40          1       1       0     0.26862  2.2075e-5   0.0013537\n",
       " 239 │ PARK-40          2       1       0     0.45376  3.6545e-5   0.0027241\n",
       " 240 │ PARK-40          3       1       0     0.34706  2.8177e-5   0.0017456   ⋯\n",
       "\u001b[36m                                                 41 columns and 219 rows omitted\u001b[0m"
      ]
     },
     "execution_count": 11,
     "metadata": {},
     "output_type": "execute_result"
    }
   ],
   "source": [
    "using CSV\n",
    "using DataFrames\n",
    "\n",
    "df = CSV.read(\"/home/hoanganh/Desktop/math-topics/algebraic_statistics/codes/datasets/ReplicatedAcousticFeatures-ParkinsonDatabase.csv\", DataFrame)"
   ]
  },
  {
   "cell_type": "code",
   "execution_count": 12,
   "id": "0dffc325",
   "metadata": {},
   "outputs": [
    {
     "data": {
      "text/plain": [
       "240×46 Matrix{Float64}:\n",
       " 1.0  0.25546  1.4581e-5   0.001467    …  1.40549   1.4167   1.35461   0.0\n",
       " 1.0  0.36964  2.1662e-5   0.0019317      1.31455   1.319    1.32351   0.0\n",
       " 1.0  0.23514  1.3109e-5   0.0013527      1.38891   1.30547  1.3054    0.0\n",
       " 0.0  0.2932   1.7331e-5   0.0011048      1.63835   1.60401  1.62146   0.0\n",
       " 0.0  0.23075  1.4561e-5   0.0010729      1.53367   1.29754  1.38202   0.0\n",
       " 0.0  0.16489  1.0011e-5   0.00081887  …  1.65165   1.65284  1.42762   0.0\n",
       " 1.0  0.22506  1.4288e-5   0.0013581      1.74186   1.82878  1.6556    0.0\n",
       " 1.0  0.23086  1.4545e-5   0.0013486      1.64791   1.66298  1.60965   0.0\n",
       " 1.0  0.22898  1.4978e-5   0.0013751      1.3548    1.58502  1.33429   0.0\n",
       " 1.0  1.31     0.00010317  0.0082445      1.37458   1.55064  1.57282   0.0\n",
       " 1.0  1.0647   8.1987e-5   0.0062989   …  1.19533   1.55514  1.69532   0.0\n",
       " 1.0  1.0417   8.1777e-5   0.0060929      1.5295    1.76017  1.47854   0.0\n",
       " 0.0  0.78955  0.00010252  0.0042382      1.4261    1.51508  1.30507   0.0\n",
       " ⋮                                     ⋱                               ⋮\n",
       " 1.0  0.64831  4.1553e-5   0.0035105      1.39014   1.20441  1.19403   1.0\n",
       " 1.0  0.52051  3.3141e-5   0.0026489      1.26115   1.02993  1.23832   1.0\n",
       " 1.0  1.1783   7.0129e-5   0.0071121   …  1.35512   1.33758  1.39135   1.0\n",
       " 1.0  0.19979  1.284e-5    0.0010996      1.34307   1.42547  1.22676   1.0\n",
       " 1.0  0.27423  1.6743e-5   0.0016142      0.959991  1.01057  0.997155  1.0\n",
       " 1.0  0.24443  1.4914e-5   0.0013755      1.14944   1.11787  1.09105   1.0\n",
       " 0.0  0.287    1.8129e-5   0.0016046      1.09861   1.11294  1.09724   1.0\n",
       " 0.0  0.57585  3.6944e-5   0.003701    …  1.13244   1.10782  1.10914   1.0\n",
       " 0.0  0.23322  1.4656e-5   0.0012704      1.15844   1.09607  1.14184   1.0\n",
       " 0.0  0.26862  2.2075e-5   0.0013537      1.37433   1.38336  1.45641   1.0\n",
       " 0.0  0.45376  3.6545e-5   0.0027241      1.33192   1.42306  1.30735   1.0\n",
       " 0.0  0.34706  2.8177e-5   0.0017456      1.39565   1.31569  1.42253   1.0"
      ]
     },
     "execution_count": 12,
     "metadata": {},
     "output_type": "execute_result"
    }
   ],
   "source": [
    "nr=240\n",
    "nc=46\n",
    "D=Matrix{Float64}(undef,nr,nc)\n",
    "for j=1:nr\n",
    "    for i=4:48\n",
    "        D[j,i-3]=df[j,i]\n",
    "    end\n",
    "        \n",
    "    D[j,46]=df[j,3]\n",
    "\n",
    "end\n",
    "D"
   ]
  },
  {
   "cell_type": "code",
   "execution_count": 13,
   "id": "1f88c565",
   "metadata": {},
   "outputs": [
    {
     "data": {
      "text/plain": [
       "45-element Vector{Float64}:\n",
       "   1.0\n",
       "   6.8382\n",
       "   0.00054986\n",
       "   0.043843\n",
       "   0.065199\n",
       "   0.1926\n",
       "   1.7476\n",
       "   0.11324\n",
       "   0.12076\n",
       "   0.14244\n",
       " 101.2063256\n",
       " 109.6511166\n",
       " 120.7128299\n",
       "   ⋮\n",
       "   2.02128734\n",
       "   1.979858066\n",
       "   1.860588485\n",
       "   2.038241245\n",
       "   1.785984309\n",
       "   1.988090082\n",
       "   1.872799251\n",
       "   1.920131296\n",
       "   1.943331322\n",
       "   1.949679031\n",
       "   1.918392362\n",
       "   1.930102904"
      ]
     },
     "execution_count": 13,
     "metadata": {},
     "output_type": "execute_result"
    }
   ],
   "source": [
    "max_col=[maximum(D[:,j]) for j=1:45]"
   ]
  },
  {
   "cell_type": "code",
   "execution_count": 14,
   "id": "ce36b4d1",
   "metadata": {},
   "outputs": [
    {
     "data": {
      "text/plain": [
       "240×46 Matrix{Float64}:\n",
       " 1.0  0.0373578  0.0265177  0.0334603  …  0.720885  0.738485  0.701833  0.0\n",
       " 1.0  0.0540552  0.0393955  0.0440595     0.674239  0.687554  0.685719  0.0\n",
       " 1.0  0.0343862  0.0238406  0.0308533     0.712379  0.680502  0.676338  0.0\n",
       " 0.0  0.0428768  0.0315189  0.025199      0.840316  0.836121  0.840088  0.0\n",
       " 0.0  0.0337443  0.0264813  0.0244714     0.786625  0.676366  0.716036  0.0\n",
       " 0.0  0.0241131  0.0182065  0.0186773  …  0.847142  0.861578  0.739661  0.0\n",
       " 1.0  0.0329122  0.0259848  0.0309764     0.89341   0.953288  0.85778   0.0\n",
       " 1.0  0.0337603  0.0264522  0.0307598     0.845221  0.866862  0.833972  0.0\n",
       " 1.0  0.0334854  0.0272397  0.0313642     0.694882  0.826225  0.691307  0.0\n",
       " 1.0  0.191571   0.18763    0.188046      0.70503   0.808301  0.814889  0.0\n",
       " 1.0  0.155699   0.149105   0.143669   …  0.613091  0.810649  0.878357  0.0\n",
       " 1.0  0.152335   0.148723   0.138971      0.784486  0.917524  0.76604   0.0\n",
       " 0.0  0.115462   0.186447   0.0966677     0.731452  0.789763  0.676164  0.0\n",
       " ⋮                                     ⋱                                ⋮\n",
       " 1.0  0.0948071  0.0755701  0.0800698     0.713012  0.627821  0.618633  1.0\n",
       " 1.0  0.076118   0.0602717  0.0604179     0.646848  0.536869  0.641583  1.0\n",
       " 1.0  0.172311   0.12754    0.162217   …  0.695047  0.697243  0.720866  1.0\n",
       " 1.0  0.0292168  0.0233514  0.0250804     0.688866  0.743057  0.635593  1.0\n",
       " 1.0  0.0401027  0.0304496  0.0368177     0.492384  0.52678   0.516633  1.0\n",
       " 1.0  0.0357448  0.0271233  0.0313733     0.589555  0.582711  0.565283  1.0\n",
       " 0.0  0.0419701  0.0329702  0.0365988     0.563482  0.580143  0.56849   1.0\n",
       " 0.0  0.0842108  0.067188   0.0844148  …  0.580832  0.577475  0.574656  1.0\n",
       " 0.0  0.0341055  0.0266541  0.0289761     0.594171  0.57135   0.591593  1.0\n",
       " 0.0  0.0392823  0.0401466  0.0308761     0.704901  0.721106  0.754576  1.0\n",
       " 0.0  0.0663566  0.0664624  0.0621331     0.68315   0.741799  0.677349  1.0\n",
       " 0.0  0.0507531  0.051244   0.0398148     0.715837  0.68583   0.737025  1.0"
      ]
     },
     "execution_count": 14,
     "metadata": {},
     "output_type": "execute_result"
    }
   ],
   "source": [
    "for j=1:45\n",
    "    D[:,j]/=max_col[j]\n",
    "end\n",
    "D"
   ]
  },
  {
   "cell_type": "code",
   "execution_count": 15,
   "id": "7ed786e2",
   "metadata": {},
   "outputs": [
    {
     "data": {
      "text/plain": [
       "240×45 Matrix{Float64}:\n",
       "  1.0  -0.925284  -0.946965  -0.933079  …   0.441771   0.476971   0.403666\n",
       "  1.0  -0.89189   -0.921209  -0.911881      0.348478   0.375108   0.371438\n",
       "  1.0  -0.931228  -0.952319  -0.938293      0.424758   0.361003   0.352676\n",
       " -1.0  -0.914246  -0.936962  -0.949602      0.680632   0.672242   0.680175\n",
       " -1.0  -0.932511  -0.947037  -0.951057      0.573249   0.352732   0.432072\n",
       " -1.0  -0.951774  -0.963587  -0.962645  …   0.694284   0.723156   0.479323\n",
       "  1.0  -0.934176  -0.94803   -0.938047      0.78682    0.906577   0.71556\n",
       "  1.0  -0.932479  -0.947096  -0.93848       0.690443   0.733724   0.667944\n",
       "  1.0  -0.933029  -0.945521  -0.937272      0.389765   0.652451   0.382613\n",
       "  1.0  -0.616858  -0.624741  -0.623908      0.410059   0.616601   0.629779\n",
       "  1.0  -0.688602  -0.70179   -0.712661  …   0.226182   0.621297   0.756713\n",
       "  1.0  -0.695329  -0.702553  -0.722058      0.568972   0.835048   0.53208\n",
       " -1.0  -0.769077  -0.627105  -0.806665      0.462904   0.579527   0.352327\n",
       "  ⋮                                     ⋱                         \n",
       "  1.0  -0.810386  -0.84886   -0.83986       0.426023   0.255642   0.237266\n",
       "  1.0  -0.847764  -0.879457  -0.879164      0.293695   0.0737381  0.283165\n",
       "  1.0  -0.655377  -0.744921  -0.675565  …   0.390094   0.394485   0.441732\n",
       "  1.0  -0.941566  -0.953297  -0.949839      0.377732   0.486114   0.271187\n",
       "  1.0  -0.919795  -0.939101  -0.926365     -0.0152317  0.0535607  0.0332665\n",
       "  1.0  -0.92851   -0.945753  -0.937253      0.17911    0.165421   0.130565\n",
       " -1.0  -0.91606   -0.93406   -0.926802      0.126963   0.160285   0.136979\n",
       " -1.0  -0.831578  -0.865624  -0.83117   …   0.161664   0.15495    0.149311\n",
       " -1.0  -0.931789  -0.946692  -0.942048      0.188343   0.142699   0.183186\n",
       " -1.0  -0.921435  -0.919707  -0.938248      0.409802   0.442212   0.509151\n",
       " -1.0  -0.867287  -0.867075  -0.875734      0.366299   0.483598   0.354697\n",
       " -1.0  -0.898494  -0.897512  -0.92037       0.431674   0.37166    0.474049"
      ]
     },
     "execution_count": 15,
     "metadata": {},
     "output_type": "execute_result"
    }
   ],
   "source": [
    "D[:,1:45].-=0.5\n",
    "D[:,1:45]*=2"
   ]
  },
  {
   "cell_type": "code",
   "execution_count": 16,
   "id": "59b535fc",
   "metadata": {},
   "outputs": [
    {
     "data": {
      "text/plain": [
       "5.62276736568214"
      ]
     },
     "execution_count": 16,
     "metadata": {},
     "output_type": "execute_result"
    }
   ],
   "source": [
    "using LinearAlgebra\n",
    "\n",
    "max_norm_col=maximum(norm(D[j,1:45]) for j=1:nr) "
   ]
  },
  {
   "cell_type": "code",
   "execution_count": 17,
   "id": "77e1dbbc",
   "metadata": {},
   "outputs": [
    {
     "data": {
      "text/plain": [
       "240×46 Matrix{Float64}:\n",
       "  0.177848  -0.16456   -0.168416  -0.165947  …  0.0848285   0.0717914  0.0\n",
       "  0.177848  -0.158621  -0.163836  -0.162177     0.0667124   0.0660597  0.0\n",
       "  0.177848  -0.165617  -0.169368  -0.166874     0.0642038   0.0627229  0.0\n",
       " -0.177848  -0.162597  -0.166637  -0.168885     0.119557    0.120968   0.0\n",
       " -0.177848  -0.165846  -0.168429  -0.169144     0.0627329   0.0768433  0.0\n",
       " -0.177848  -0.169271  -0.171372  -0.171205  …  0.128612    0.0852468  0.0\n",
       "  0.177848  -0.166142  -0.168606  -0.16683      0.161233    0.127261   0.0\n",
       "  0.177848  -0.16584   -0.168439  -0.166907     0.130492    0.118793   0.0\n",
       "  0.177848  -0.165938  -0.168159  -0.166692     0.116037    0.0680471  0.0\n",
       "  0.177848  -0.109707  -0.111109  -0.110961     0.109662    0.112005   0.0\n",
       "  0.177848  -0.122467  -0.124812  -0.126746  …  0.110497    0.13458    0.0\n",
       "  0.177848  -0.123663  -0.124948  -0.128417     0.148512    0.0946296  0.0\n",
       " -0.177848  -0.136779  -0.11153   -0.143464     0.103068    0.0626609  0.0\n",
       "  ⋮                                          ⋱                         ⋮\n",
       "  0.177848  -0.144126  -0.150968  -0.149368     0.0454655   0.0421973  1.0\n",
       "  0.177848  -0.150773  -0.15641   -0.156358     0.0131142   0.0503605  1.0\n",
       "  0.177848  -0.116558  -0.132483  -0.120148  …  0.0701586   0.0785614  1.0\n",
       "  0.177848  -0.167456  -0.169542  -0.168927     0.0864546   0.0482301  1.0\n",
       "  0.177848  -0.163584  -0.167018  -0.164752     0.00952569  0.0059164  1.0\n",
       "  0.177848  -0.165134  -0.168201  -0.166689     0.0294199   0.0232208  1.0\n",
       " -0.177848  -0.16292   -0.166121  -0.16483      0.0285065   0.0243615  1.0\n",
       " -0.177848  -0.147895  -0.15395   -0.147822  …  0.0275577   0.0265547  1.0\n",
       " -0.177848  -0.165717  -0.168368  -0.167542     0.0253788   0.0325793  1.0\n",
       " -0.177848  -0.163876  -0.163568  -0.166866     0.0786467   0.0905517  1.0\n",
       " -0.177848  -0.154246  -0.154208  -0.155748     0.0860072   0.0630823  1.0\n",
       " -0.177848  -0.159796  -0.159621  -0.163686     0.0660992   0.0843089  1.0"
      ]
     },
     "execution_count": 17,
     "metadata": {},
     "output_type": "execute_result"
    }
   ],
   "source": [
    "r=1\n",
    "D[:,1:45]/=max_norm_col/r\n",
    "D"
   ]
  },
  {
   "cell_type": "code",
   "execution_count": 18,
   "id": "aaaba3d7",
   "metadata": {},
   "outputs": [
    {
     "data": {
      "text/plain": [
       "120×45 Matrix{Float64}:\n",
       "  0.177848  -0.16456   -0.168416  …  0.0785682  0.0848285  0.0717914\n",
       "  0.177848  -0.158621  -0.163836     0.0619762  0.0667124  0.0660597\n",
       "  0.177848  -0.165617  -0.169368     0.0755425  0.0642038  0.0627229\n",
       " -0.177848  -0.162597  -0.166637     0.121049   0.119557   0.120968\n",
       " -0.177848  -0.165846  -0.168429     0.101951   0.0627329  0.0768433\n",
       " -0.177848  -0.169271  -0.171372  …  0.123477   0.128612   0.0852468\n",
       "  0.177848  -0.166142  -0.168606     0.139935   0.161233   0.127261\n",
       "  0.177848  -0.16584   -0.168439     0.122794   0.130492   0.118793\n",
       "  0.177848  -0.165938  -0.168159     0.069319   0.116037   0.0680471\n",
       "  0.177848  -0.109707  -0.111109     0.0729284  0.109662   0.112005\n",
       "  0.177848  -0.122467  -0.124812  …  0.040226   0.110497   0.13458\n",
       "  0.177848  -0.123663  -0.124948     0.101191   0.148512   0.0946296\n",
       " -0.177848  -0.136779  -0.11153      0.0823268  0.103068   0.0626609\n",
       "  ⋮                               ⋱                        \n",
       " -0.177848  -0.133935  -0.128553     0.14396    0.129758   0.131106\n",
       " -0.177848  -0.147314  -0.142743     0.0758252  0.0880177  0.104639\n",
       " -0.177848  -0.146128  -0.138672  …  0.132291   0.12303    0.143454\n",
       " -0.177848  -0.156834  -0.159187     0.0962773  0.0923438  0.10063\n",
       " -0.177848  -0.158516  -0.161886     0.100903   0.0501341  0.0904076\n",
       " -0.177848  -0.168359  -0.169855     0.0909188  0.106225   0.062498\n",
       " -0.177848  -0.155252  -0.154603     0.0606315  0.125917   0.146507\n",
       " -0.177848  -0.131042  -0.130545  …  0.114885   0.105212   0.126702\n",
       " -0.177848  -0.134017  -0.133323     0.154083   0.128167   0.125492\n",
       "  0.177848  -0.148449  -0.158849     0.10361    0.0682853  0.0817385\n",
       "  0.177848  -0.162645  -0.168458     0.0719464  0.052741   0.113045\n",
       "  0.177848  -0.157752  -0.165425     0.0595354  0.116297   0.0874268"
      ]
     },
     "execution_count": 18,
     "metadata": {},
     "output_type": "execute_result"
    }
   ],
   "source": [
    "Y1=D[findall(u -> u == 0, D[:,end]),1:45]\n",
    "N=45\n",
    "Y1"
   ]
  },
  {
   "cell_type": "code",
   "execution_count": 19,
   "id": "c71e9443",
   "metadata": {},
   "outputs": [
    {
     "data": {
      "text/plain": [
       "120×45 Matrix{Float64}:\n",
       " -0.177848  -0.148123   -0.150356   …   0.0637682   0.0819689   0.0691258\n",
       " -0.177848  -0.0802193  -0.0908551      0.0379753   0.0704238   0.0476797\n",
       " -0.177848  -0.137343   -0.140896       0.0808158   0.1014      0.0787175\n",
       " -0.177848  -0.163251   -0.16764        0.11475     0.153098    0.0817737\n",
       " -0.177848  -0.158126   -0.164378       0.0680538   0.0738102   0.116491\n",
       " -0.177848  -0.160729   -0.164573   …   0.133694    0.135388    0.14386\n",
       " -0.177848  -0.142944   -0.139066       0.0714626   0.0918968   0.110237\n",
       " -0.177848  -0.114123   -0.107474       0.0464518   0.0961845   0.0550379\n",
       " -0.177848  -0.139391   -0.135819       0.0915843   0.0902242   0.104941\n",
       " -0.177848  -0.166143   -0.168582       0.111657    0.124946    0.076479\n",
       " -0.177848  -0.153023   -0.157689   …   0.0893749   0.119378    0.0702453\n",
       " -0.177848  -0.163485   -0.165836       0.172458    0.0845411   0.164497\n",
       " -0.177848  -0.165633   -0.167336       0.0552801   0.075042    0.108101\n",
       "  ⋮                                 ⋱                           \n",
       "  0.177848  -0.144126   -0.150968       0.0757675   0.0454655   0.0421973\n",
       "  0.177848  -0.150773   -0.15641        0.0522332   0.0131142   0.0503605\n",
       "  0.177848  -0.116558   -0.132483   …   0.0693776   0.0701586   0.0785614\n",
       "  0.177848  -0.167456   -0.169542       0.067179    0.0864546   0.0482301\n",
       "  0.177848  -0.163584   -0.167018      -0.00270893  0.00952569  0.0059164\n",
       "  0.177848  -0.165134   -0.168201       0.0318543   0.0294199   0.0232208\n",
       " -0.177848  -0.16292    -0.166121       0.0225802   0.0285065   0.0243615\n",
       " -0.177848  -0.147895   -0.15395    …   0.0287517   0.0275577   0.0265547\n",
       " -0.177848  -0.165717   -0.168368       0.0334965   0.0253788   0.0325793\n",
       " -0.177848  -0.163876   -0.163568       0.0728826   0.0786467   0.0905517\n",
       " -0.177848  -0.154246   -0.154208       0.0651458   0.0860072   0.0630823\n",
       " -0.177848  -0.159796   -0.159621       0.0767726   0.0660992   0.0843089"
      ]
     },
     "execution_count": 19,
     "metadata": {},
     "output_type": "execute_result"
    }
   ],
   "source": [
    "Y2=D[findall(u -> u == 1, D[:,end]),1:45]"
   ]
  },
  {
   "cell_type": "code",
   "execution_count": 20,
   "id": "d8f13594",
   "metadata": {},
   "outputs": [
    {
     "data": {
      "text/plain": [
       "108×45 Matrix{Float64}:\n",
       "  0.177848  -0.16456   -0.168416  …  0.0785682  0.0848285  0.0717914\n",
       "  0.177848  -0.158621  -0.163836     0.0619762  0.0667124  0.0660597\n",
       "  0.177848  -0.165617  -0.169368     0.0755425  0.0642038  0.0627229\n",
       " -0.177848  -0.162597  -0.166637     0.121049   0.119557   0.120968\n",
       " -0.177848  -0.165846  -0.168429     0.101951   0.0627329  0.0768433\n",
       " -0.177848  -0.169271  -0.171372  …  0.123477   0.128612   0.0852468\n",
       "  0.177848  -0.166142  -0.168606     0.139935   0.161233   0.127261\n",
       "  0.177848  -0.16584   -0.168439     0.122794   0.130492   0.118793\n",
       "  0.177848  -0.165938  -0.168159     0.069319   0.116037   0.0680471\n",
       "  0.177848  -0.109707  -0.111109     0.0729284  0.109662   0.112005\n",
       "  0.177848  -0.122467  -0.124812  …  0.040226   0.110497   0.13458\n",
       "  0.177848  -0.123663  -0.124948     0.101191   0.148512   0.0946296\n",
       " -0.177848  -0.136779  -0.11153      0.0823268  0.103068   0.0626609\n",
       "  ⋮                               ⋱                        \n",
       " -0.177848  -0.131442  -0.125807     0.0216972  0.0606009  0.0374213\n",
       " -0.177848  -0.135767  -0.133691     0.0536905  0.0440112  0.0487554\n",
       " -0.177848  -0.144514  -0.141876     0.069382   0.0580384  0.0716977\n",
       " -0.177848  -0.14901   -0.151314     0.116914   0.108205   0.100834\n",
       " -0.177848  -0.142454  -0.145612  …  0.081368   0.110414   0.060305\n",
       " -0.177848  -0.15028   -0.150793     0.113435   0.0644243  0.102415\n",
       " -0.177848  -0.151871  -0.138851     0.0973938  0.10877    0.110605\n",
       " -0.177848  -0.1624    -0.15647      0.11231    0.111754   0.083487\n",
       " -0.177848  -0.161033  -0.154973     0.119088   0.129317   0.110278\n",
       " -0.177848  -0.152831  -0.148566  …  0.0921088  0.0695397  0.120038\n",
       " -0.177848  -0.155199  -0.150728     0.0908991  0.141542   0.143301\n",
       " -0.177848  -0.155199  -0.150728     0.0908991  0.141542   0.143301"
      ]
     },
     "execution_count": 20,
     "metadata": {},
     "output_type": "execute_result"
    }
   ],
   "source": [
    "t1=ceil(Int64,0.9*size(Y1,1))\n",
    "Y_train1=Y1[1:t1,:]"
   ]
  },
  {
   "cell_type": "code",
   "execution_count": 21,
   "id": "15f05d19",
   "metadata": {},
   "outputs": [
    {
     "data": {
      "text/plain": [
       "108×45 Matrix{Float64}:\n",
       " -0.177848  -0.148123   -0.150356   -0.151626   …   0.0819689    0.0691258\n",
       " -0.177848  -0.0802193  -0.0908551  -0.0775802      0.0704238    0.0476797\n",
       " -0.177848  -0.137343   -0.140896   -0.139835       0.1014       0.0787175\n",
       " -0.177848  -0.163251   -0.16764    -0.166894       0.153098     0.0817737\n",
       " -0.177848  -0.158126   -0.164378   -0.161446       0.0738102    0.116491\n",
       " -0.177848  -0.160729   -0.164573   -0.165524   …   0.135388     0.14386\n",
       " -0.177848  -0.142944   -0.139066   -0.14638        0.0918968    0.110237\n",
       " -0.177848  -0.114123   -0.107474   -0.120406       0.0961845    0.0550379\n",
       " -0.177848  -0.139391   -0.135819   -0.143677       0.0902242    0.104941\n",
       " -0.177848  -0.166143   -0.168582   -0.167795       0.124946     0.076479\n",
       " -0.177848  -0.153023   -0.157689   -0.155147   …   0.119378     0.0702453\n",
       " -0.177848  -0.163485   -0.165836   -0.165665       0.0845411    0.164497\n",
       " -0.177848  -0.165633   -0.167336   -0.168789       0.075042     0.108101\n",
       "  ⋮                                             ⋱               \n",
       " -0.177848  -0.150133   -0.143778   -0.153009       0.0555994    0.0832441\n",
       " -0.177848  -0.147102   -0.139674   -0.152016       0.0509602    0.0717167\n",
       " -0.177848  -0.14755    -0.140531   -0.151688       0.0500591    0.0660851\n",
       " -0.177848  -0.154455   -0.154079   -0.159258       0.0502216    0.054681\n",
       " -0.177848  -0.15609    -0.155676   -0.160056   …   0.0660102    0.0598479\n",
       " -0.177848  -0.154601   -0.154627   -0.159535       0.0624278    0.062988\n",
       " -0.177848  -0.0437092  -0.0360121  -0.0574763      0.0460359    0.0566565\n",
       " -0.177848  -0.124313   -0.120944   -0.13465        0.0447775    0.0535845\n",
       " -0.177848  -0.0846511  -0.0814947  -0.0940252      0.0499677    0.0488104\n",
       "  0.177848  -0.146577   -0.16168    -0.147064   …   0.0216925    0.020731\n",
       "  0.177848  -0.137756   -0.157127   -0.140189      -0.034762    -0.0399244\n",
       "  0.177848  -0.140403   -0.157129   -0.140865       0.00625669   0.00178373"
      ]
     },
     "execution_count": 21,
     "metadata": {},
     "output_type": "execute_result"
    }
   ],
   "source": [
    "t2=ceil(Int64,0.9*size(Y2,1))\n",
    "Y_train2=Y2[1:t2,:]"
   ]
  },
  {
   "cell_type": "code",
   "execution_count": 22,
   "id": "fdf6114c",
   "metadata": {},
   "outputs": [
    {
     "data": {
      "text/plain": [
       "12×45 Matrix{Float64}:\n",
       " -0.177848  -0.133935  -0.128553  …  0.14396    0.129758   0.131106\n",
       " -0.177848  -0.147314  -0.142743     0.0758252  0.0880177  0.104639\n",
       " -0.177848  -0.146128  -0.138672     0.132291   0.12303    0.143454\n",
       " -0.177848  -0.156834  -0.159187     0.0962773  0.0923438  0.10063\n",
       " -0.177848  -0.158516  -0.161886     0.100903   0.0501341  0.0904076\n",
       " -0.177848  -0.168359  -0.169855  …  0.0909188  0.106225   0.062498\n",
       " -0.177848  -0.155252  -0.154603     0.0606315  0.125917   0.146507\n",
       " -0.177848  -0.131042  -0.130545     0.114885   0.105212   0.126702\n",
       " -0.177848  -0.134017  -0.133323     0.154083   0.128167   0.125492\n",
       "  0.177848  -0.148449  -0.158849     0.10361    0.0682853  0.0817385\n",
       "  0.177848  -0.162645  -0.168458  …  0.0719464  0.052741   0.113045\n",
       "  0.177848  -0.157752  -0.165425     0.0595354  0.116297   0.0874268"
      ]
     },
     "execution_count": 22,
     "metadata": {},
     "output_type": "execute_result"
    }
   ],
   "source": [
    "Y_test1=Y1[(t1+1):end,:]"
   ]
  },
  {
   "cell_type": "code",
   "execution_count": 23,
   "id": "073ab9e6",
   "metadata": {},
   "outputs": [
    {
     "data": {
      "text/plain": [
       "12×45 Matrix{Float64}:\n",
       "  0.177848  -0.144126  -0.150968  …   0.0757675   0.0454655   0.0421973\n",
       "  0.177848  -0.150773  -0.15641       0.0522332   0.0131142   0.0503605\n",
       "  0.177848  -0.116558  -0.132483      0.0693776   0.0701586   0.0785614\n",
       "  0.177848  -0.167456  -0.169542      0.067179    0.0864546   0.0482301\n",
       "  0.177848  -0.163584  -0.167018     -0.00270893  0.00952569  0.0059164\n",
       "  0.177848  -0.165134  -0.168201  …   0.0318543   0.0294199   0.0232208\n",
       " -0.177848  -0.16292   -0.166121      0.0225802   0.0285065   0.0243615\n",
       " -0.177848  -0.147895  -0.15395       0.0287517   0.0275577   0.0265547\n",
       " -0.177848  -0.165717  -0.168368      0.0334965   0.0253788   0.0325793\n",
       " -0.177848  -0.163876  -0.163568      0.0728826   0.0786467   0.0905517\n",
       " -0.177848  -0.154246  -0.154208  …   0.0651458   0.0860072   0.0630823\n",
       " -0.177848  -0.159796  -0.159621      0.0767726   0.0660992   0.0843089"
      ]
     },
     "execution_count": 23,
     "metadata": {},
     "output_type": "execute_result"
    }
   ],
   "source": [
    "Y_test2=Y2[(t2+1):end,:]"
   ]
  },
  {
   "cell_type": "code",
   "execution_count": 24,
   "id": "9d91676e",
   "metadata": {},
   "outputs": [
    {
     "name": "stdout",
     "output_type": "stream",
     "text": [
      "number of attributes: n=45\n",
      "sample sizes for traint sets: t=[108, 108]\n",
      "degree of separating polynomial: k=1\n",
      "perturbed parameter: c=Inf\n",
      "Problem\n",
      "  Name                   :                 \n",
      "  Objective sense        : min             \n",
      "  Type                   : CONIC (conic optimization problem)\n",
      "  Constraints            : 264             \n",
      "  Cones                  : 1               \n",
      "  Scalar variables       : 311             \n",
      "  Matrix variables       : 0               \n",
      "  Integer variables      : 0               \n",
      "\n",
      "Optimizer started.\n",
      "Presolve started.\n",
      "Linear dependency checker started.\n",
      "Linear dependency checker terminated.\n",
      "Eliminator started.\n",
      "Freed constraints in eliminator : 0\n",
      "Eliminator terminated.\n",
      "Eliminator - tries                  : 1                 time                   : 0.00            \n",
      "Lin. dep.  - tries                  : 1                 time                   : 0.00            \n",
      "Lin. dep.  - number                 : 0               \n",
      "Presolve terminated. Time: 0.00    \n",
      "Problem\n",
      "  Name                   :                 \n",
      "  Objective sense        : min             \n",
      "  Type                   : CONIC (conic optimization problem)\n",
      "  Constraints            : 264             \n",
      "  Cones                  : 1               \n",
      "  Scalar variables       : 311             \n",
      "  Matrix variables       : 0               \n",
      "  Integer variables      : 0               \n",
      "\n",
      "Optimizer  - threads                : 4               \n",
      "Optimizer  - solved problem         : the primal      \n",
      "Optimizer  - Constraints            : 216\n",
      "Optimizer  - Cones                  : 1\n",
      "Optimizer  - Scalar variables       : 480               conic                  : 48              \n",
      "Optimizer  - Semi-definite variables: 0                 scalarized             : 0               \n",
      "Factor     - setup time             : 0.00              dense det. time        : 0.00            \n",
      "Factor     - ML order time          : 0.00              GP order time          : 0.00            \n",
      "Factor     - nonzeros before factor : 2.34e+04          after factor           : 2.34e+04        \n",
      "Factor     - dense dim.             : 0                 flops                  : 5.54e+06        \n",
      "ITE PFEAS    DFEAS    GFEAS    PRSTATUS   POBJ              DOBJ              MU       TIME  \n",
      "0   1.0e+00  2.9e-01  2.4e+00  0.00e+00   7.071067812e-01   -7.071067812e-01  1.0e+00  0.00  \n",
      "1   6.8e-01  2.0e-01  1.0e+00  3.77e+00   9.609852646e-01   8.589551406e-01   6.8e-01  0.00  \n",
      "2   2.3e-01  6.7e-02  1.6e-01  3.81e+00   8.108278211e-01   8.438499225e-01   2.3e-01  0.01  \n",
      "3   9.0e-03  2.6e-03  4.3e-04  1.75e+00   7.443302809e-01   7.432998984e-01   9.0e-03  0.01  \n",
      "4   3.2e-03  9.3e-04  6.4e-05  1.01e+00   7.459761435e-01   7.455510496e-01   3.2e-03  0.01  \n",
      "5   3.9e-04  1.2e-04  1.5e-06  1.01e+00   7.456547018e-01   7.455956078e-01   3.9e-04  0.01  \n",
      "6   1.6e-05  4.7e-06  9.7e-09  1.00e+00   7.455556501e-01   7.455532390e-01   1.6e-05  0.01  \n",
      "7   3.1e-06  9.1e-07  8.6e-10  1.00e+00   7.455513128e-01   7.455508407e-01   3.1e-06  0.01  \n",
      "8   1.4e-08  3.8e-09  2.5e-13  1.00e+00   7.455502579e-01   7.455502559e-01   1.4e-08  0.01  \n",
      "Optimizer terminated. Time: 0.01    \n",
      "\n"
     ]
    },
    {
     "name": "stderr",
     "output_type": "stream",
     "text": [
      "WARNING: replacing module ClassificationModels.\n"
     ]
    },
    {
     "data": {
      "text/plain": [
       "(::Main.ClassificationModels.var\"#eval_sep_pol#242\"{Int64, Vector{Float64}}) (generic function with 1 method)"
      ]
     },
     "execution_count": 24,
     "metadata": {},
     "output_type": "execute_result"
    }
   ],
   "source": [
    "include(\"../src/ClassificationModels2.jl\")\n",
    "using .ClassificationModels2\n",
    "\n",
    "n=N\n",
    "\n",
    "c=Inf\n",
    "\n",
    "X=Vector{Matrix{Float64}}(undef,2)\n",
    "X[1]=Y_train1\n",
    "X[2]=Y_train2\n",
    "\n",
    "t=[t1;t2]\n",
    "\n",
    "k=1\n",
    "\n",
    "eval_sep_pol=ClassificationModels2.model_SVM(n,X,t,c,k,lamb=0.01)"
   ]
  },
  {
   "cell_type": "code",
   "execution_count": 25,
   "id": "bf0b6594",
   "metadata": {},
   "outputs": [
    {
     "data": {
      "text/plain": [
       "classifier (generic function with 1 method)"
      ]
     },
     "execution_count": 25,
     "metadata": {},
     "output_type": "execute_result"
    }
   ],
   "source": [
    "function classifier(y)\n",
    "    if eval_sep_pol(y)>0\n",
    "        return 1\n",
    "    else\n",
    "        return 2\n",
    "    end\n",
    "end"
   ]
  },
  {
   "cell_type": "code",
   "execution_count": 26,
   "id": "8a410e31",
   "metadata": {},
   "outputs": [
    {
     "data": {
      "text/plain": [
       "12-element Vector{Int64}:\n",
       " 1\n",
       " 1\n",
       " 1\n",
       " 1\n",
       " 1\n",
       " 1\n",
       " 1\n",
       " 1\n",
       " 1\n",
       " 1\n",
       " 1\n",
       " 1"
      ]
     },
     "execution_count": 26,
     "metadata": {},
     "output_type": "execute_result"
    }
   ],
   "source": [
    "predict1=[classifier(Y_test1[j,:]) for j in 1:size(Y_test1,1)]"
   ]
  },
  {
   "cell_type": "code",
   "execution_count": 27,
   "id": "6c45434d",
   "metadata": {},
   "outputs": [
    {
     "data": {
      "text/plain": [
       "12"
      ]
     },
     "execution_count": 27,
     "metadata": {},
     "output_type": "execute_result"
    }
   ],
   "source": [
    "numcor1=length(findall(u -> u == 1, predict1))"
   ]
  },
  {
   "cell_type": "code",
   "execution_count": 28,
   "id": "eb0deeb8",
   "metadata": {},
   "outputs": [
    {
     "data": {
      "text/plain": [
       "12-element Vector{Int64}:\n",
       " 1\n",
       " 2\n",
       " 2\n",
       " 2\n",
       " 2\n",
       " 2\n",
       " 2\n",
       " 2\n",
       " 2\n",
       " 1\n",
       " 1\n",
       " 1"
      ]
     },
     "execution_count": 28,
     "metadata": {},
     "output_type": "execute_result"
    }
   ],
   "source": [
    "predict2=[classifier(Y_test2[j,:]) for j in 1:size(Y_test2,1)]"
   ]
  },
  {
   "cell_type": "code",
   "execution_count": 29,
   "id": "b974bb90",
   "metadata": {},
   "outputs": [
    {
     "data": {
      "text/plain": [
       "8"
      ]
     },
     "execution_count": 29,
     "metadata": {},
     "output_type": "execute_result"
    }
   ],
   "source": [
    "numcor2=length(findall(u -> u == 2, predict2))"
   ]
  },
  {
   "cell_type": "code",
   "execution_count": 30,
   "id": "55798ea0",
   "metadata": {},
   "outputs": [
    {
     "data": {
      "text/plain": [
       "20"
      ]
     },
     "execution_count": 30,
     "metadata": {},
     "output_type": "execute_result"
    }
   ],
   "source": [
    "numcor1+numcor2"
   ]
  },
  {
   "cell_type": "code",
   "execution_count": 31,
   "id": "f2b100fe",
   "metadata": {},
   "outputs": [
    {
     "data": {
      "text/plain": [
       "0.8333333333333334"
      ]
     },
     "execution_count": 31,
     "metadata": {},
     "output_type": "execute_result"
    }
   ],
   "source": [
    "accuracy=(numcor1+numcor2)/(size(Y_test1,1)+size(Y_test2,1))"
   ]
  },
  {
   "cell_type": "code",
   "execution_count": 32,
   "id": "19b89075",
   "metadata": {},
   "outputs": [
    {
     "data": {
      "text/plain": [
       "216"
      ]
     },
     "execution_count": 32,
     "metadata": {},
     "output_type": "execute_result"
    }
   ],
   "source": [
    "t1+t2"
   ]
  },
  {
   "cell_type": "code",
   "execution_count": 33,
   "id": "19392424",
   "metadata": {},
   "outputs": [
    {
     "data": {
      "text/plain": [
       "24"
      ]
     },
     "execution_count": 33,
     "metadata": {},
     "output_type": "execute_result"
    }
   ],
   "source": [
    "nr-(t1+t2)"
   ]
  },
  {
   "cell_type": "code",
   "execution_count": null,
   "id": "f4f3bebe",
   "metadata": {},
   "outputs": [],
   "source": []
  },
  {
   "cell_type": "code",
   "execution_count": null,
   "id": "d01381f2",
   "metadata": {},
   "outputs": [],
   "source": []
  },
  {
   "cell_type": "code",
   "execution_count": null,
   "id": "f8e43a9e",
   "metadata": {},
   "outputs": [],
   "source": []
  }
 ],
 "metadata": {
  "kernelspec": {
   "display_name": "Julia 1.7.1",
   "language": "julia",
   "name": "julia-1.7"
  },
  "language_info": {
   "file_extension": ".jl",
   "mimetype": "application/julia",
   "name": "julia",
   "version": "1.7.1"
  }
 },
 "nbformat": 4,
 "nbformat_minor": 5
}
