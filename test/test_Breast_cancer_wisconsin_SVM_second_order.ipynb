{
 "cells": [
  {
   "cell_type": "code",
   "execution_count": 1,
   "metadata": {},
   "outputs": [
    {
     "name": "stderr",
     "output_type": "stream",
     "text": [
      "┌ Warning: thread = 1 warning: only found 32 / 33 columns around data row: 2. Filling remaining columns with `missing`\n",
      "└ @ CSV /home/hoanganh/.julia/packages/CSV/Zl2ww/src/file.jl:612\n",
      "┌ Warning: thread = 1 warning: only found 32 / 33 columns around data row: 3. Filling remaining columns with `missing`\n",
      "└ @ CSV /home/hoanganh/.julia/packages/CSV/Zl2ww/src/file.jl:612\n",
      "┌ Warning: thread = 1 warning: only found 32 / 33 columns around data row: 4. Filling remaining columns with `missing`\n",
      "└ @ CSV /home/hoanganh/.julia/packages/CSV/Zl2ww/src/file.jl:612\n",
      "┌ Warning: thread = 1 warning: only found 32 / 33 columns around data row: 5. Filling remaining columns with `missing`\n",
      "└ @ CSV /home/hoanganh/.julia/packages/CSV/Zl2ww/src/file.jl:612\n",
      "┌ Warning: thread = 1 warning: only found 32 / 33 columns around data row: 6. Filling remaining columns with `missing`\n",
      "└ @ CSV /home/hoanganh/.julia/packages/CSV/Zl2ww/src/file.jl:612\n",
      "┌ Warning: thread = 1 warning: only found 32 / 33 columns around data row: 7. Filling remaining columns with `missing`\n",
      "└ @ CSV /home/hoanganh/.julia/packages/CSV/Zl2ww/src/file.jl:612\n",
      "┌ Warning: thread = 1 warning: only found 32 / 33 columns around data row: 8. Filling remaining columns with `missing`\n",
      "└ @ CSV /home/hoanganh/.julia/packages/CSV/Zl2ww/src/file.jl:612\n",
      "┌ Warning: thread = 1 warning: only found 32 / 33 columns around data row: 9. Filling remaining columns with `missing`\n",
      "└ @ CSV /home/hoanganh/.julia/packages/CSV/Zl2ww/src/file.jl:612\n",
      "┌ Warning: thread = 1 warning: only found 32 / 33 columns around data row: 10. Filling remaining columns with `missing`\n",
      "└ @ CSV /home/hoanganh/.julia/packages/CSV/Zl2ww/src/file.jl:612\n",
      "┌ Warning: thread = 1 warning: only found 32 / 33 columns around data row: 11. Filling remaining columns with `missing`\n",
      "└ @ CSV /home/hoanganh/.julia/packages/CSV/Zl2ww/src/file.jl:612\n",
      "┌ Warning: thread = 1 warning: only found 32 / 33 columns around data row: 12. Filling remaining columns with `missing`\n",
      "└ @ CSV /home/hoanganh/.julia/packages/CSV/Zl2ww/src/file.jl:612\n",
      "┌ Warning: thread = 1 warning: only found 32 / 33 columns around data row: 13. Filling remaining columns with `missing`\n",
      "└ @ CSV /home/hoanganh/.julia/packages/CSV/Zl2ww/src/file.jl:612\n",
      "┌ Warning: thread = 1 warning: only found 32 / 33 columns around data row: 14. Filling remaining columns with `missing`\n",
      "└ @ CSV /home/hoanganh/.julia/packages/CSV/Zl2ww/src/file.jl:612\n",
      "┌ Warning: thread = 1 warning: only found 32 / 33 columns around data row: 15. Filling remaining columns with `missing`\n",
      "└ @ CSV /home/hoanganh/.julia/packages/CSV/Zl2ww/src/file.jl:612\n",
      "┌ Warning: thread = 1 warning: only found 32 / 33 columns around data row: 16. Filling remaining columns with `missing`\n",
      "└ @ CSV /home/hoanganh/.julia/packages/CSV/Zl2ww/src/file.jl:612\n",
      "┌ Warning: thread = 1 warning: only found 32 / 33 columns around data row: 17. Filling remaining columns with `missing`\n",
      "└ @ CSV /home/hoanganh/.julia/packages/CSV/Zl2ww/src/file.jl:612\n",
      "┌ Warning: thread = 1 warning: only found 32 / 33 columns around data row: 18. Filling remaining columns with `missing`\n",
      "└ @ CSV /home/hoanganh/.julia/packages/CSV/Zl2ww/src/file.jl:612\n",
      "┌ Warning: thread = 1 warning: only found 32 / 33 columns around data row: 19. Filling remaining columns with `missing`\n",
      "└ @ CSV /home/hoanganh/.julia/packages/CSV/Zl2ww/src/file.jl:612\n",
      "┌ Warning: thread = 1 warning: only found 32 / 33 columns around data row: 20. Filling remaining columns with `missing`\n",
      "└ @ CSV /home/hoanganh/.julia/packages/CSV/Zl2ww/src/file.jl:612\n",
      "┌ Warning: thread = 1 warning: only found 32 / 33 columns around data row: 21. Filling remaining columns with `missing`\n",
      "└ @ CSV /home/hoanganh/.julia/packages/CSV/Zl2ww/src/file.jl:612\n",
      "┌ Warning: thread = 1 warning: only found 32 / 33 columns around data row: 22. Filling remaining columns with `missing`\n",
      "└ @ CSV /home/hoanganh/.julia/packages/CSV/Zl2ww/src/file.jl:612\n",
      "┌ Warning: thread = 1 warning: only found 32 / 33 columns around data row: 23. Filling remaining columns with `missing`\n",
      "└ @ CSV /home/hoanganh/.julia/packages/CSV/Zl2ww/src/file.jl:612\n",
      "┌ Warning: thread = 1 warning: only found 32 / 33 columns around data row: 24. Filling remaining columns with `missing`\n",
      "└ @ CSV /home/hoanganh/.julia/packages/CSV/Zl2ww/src/file.jl:612\n",
      "┌ Warning: thread = 1 warning: only found 32 / 33 columns around data row: 25. Filling remaining columns with `missing`\n",
      "└ @ CSV /home/hoanganh/.julia/packages/CSV/Zl2ww/src/file.jl:612\n",
      "┌ Warning: thread = 1 warning: only found 32 / 33 columns around data row: 26. Filling remaining columns with `missing`\n",
      "└ @ CSV /home/hoanganh/.julia/packages/CSV/Zl2ww/src/file.jl:612\n",
      "┌ Warning: thread = 1 warning: only found 32 / 33 columns around data row: 27. Filling remaining columns with `missing`\n",
      "└ @ CSV /home/hoanganh/.julia/packages/CSV/Zl2ww/src/file.jl:612\n",
      "┌ Warning: thread = 1 warning: only found 32 / 33 columns around data row: 28. Filling remaining columns with `missing`\n",
      "└ @ CSV /home/hoanganh/.julia/packages/CSV/Zl2ww/src/file.jl:612\n",
      "┌ Warning: thread = 1 warning: only found 32 / 33 columns around data row: 29. Filling remaining columns with `missing`\n",
      "└ @ CSV /home/hoanganh/.julia/packages/CSV/Zl2ww/src/file.jl:612\n",
      "┌ Warning: thread = 1 warning: only found 32 / 33 columns around data row: 30. Filling remaining columns with `missing`\n",
      "└ @ CSV /home/hoanganh/.julia/packages/CSV/Zl2ww/src/file.jl:612\n",
      "┌ Warning: thread = 1 warning: only found 32 / 33 columns around data row: 31. Filling remaining columns with `missing`\n",
      "└ @ CSV /home/hoanganh/.julia/packages/CSV/Zl2ww/src/file.jl:612\n",
      "┌ Warning: thread = 1 warning: only found 32 / 33 columns around data row: 32. Filling remaining columns with `missing`\n",
      "└ @ CSV /home/hoanganh/.julia/packages/CSV/Zl2ww/src/file.jl:612\n",
      "┌ Warning: thread = 1 warning: only found 32 / 33 columns around data row: 33. Filling remaining columns with `missing`\n",
      "└ @ CSV /home/hoanganh/.julia/packages/CSV/Zl2ww/src/file.jl:612\n",
      "┌ Warning: thread = 1 warning: only found 32 / 33 columns around data row: 34. Filling remaining columns with `missing`\n",
      "└ @ CSV /home/hoanganh/.julia/packages/CSV/Zl2ww/src/file.jl:612\n",
      "┌ Warning: thread = 1 warning: only found 32 / 33 columns around data row: 35. Filling remaining columns with `missing`\n",
      "└ @ CSV /home/hoanganh/.julia/packages/CSV/Zl2ww/src/file.jl:612\n",
      "┌ Warning: thread = 1 warning: only found 32 / 33 columns around data row: 36. Filling remaining columns with `missing`\n",
      "└ @ CSV /home/hoanganh/.julia/packages/CSV/Zl2ww/src/file.jl:612\n",
      "┌ Warning: thread = 1 warning: only found 32 / 33 columns around data row: 37. Filling remaining columns with `missing`\n",
      "└ @ CSV /home/hoanganh/.julia/packages/CSV/Zl2ww/src/file.jl:612\n",
      "┌ Warning: thread = 1 warning: only found 32 / 33 columns around data row: 38. Filling remaining columns with `missing`\n",
      "└ @ CSV /home/hoanganh/.julia/packages/CSV/Zl2ww/src/file.jl:612\n",
      "┌ Warning: thread = 1 warning: only found 32 / 33 columns around data row: 39. Filling remaining columns with `missing`\n",
      "└ @ CSV /home/hoanganh/.julia/packages/CSV/Zl2ww/src/file.jl:612\n",
      "┌ Warning: thread = 1 warning: only found 32 / 33 columns around data row: 40. Filling remaining columns with `missing`\n",
      "└ @ CSV /home/hoanganh/.julia/packages/CSV/Zl2ww/src/file.jl:612\n",
      "┌ Warning: thread = 1 warning: only found 32 / 33 columns around data row: 41. Filling remaining columns with `missing`\n",
      "└ @ CSV /home/hoanganh/.julia/packages/CSV/Zl2ww/src/file.jl:612\n",
      "┌ Warning: thread = 1 warning: only found 32 / 33 columns around data row: 42. Filling remaining columns with `missing`\n",
      "└ @ CSV /home/hoanganh/.julia/packages/CSV/Zl2ww/src/file.jl:612\n",
      "┌ Warning: thread = 1 warning: only found 32 / 33 columns around data row: 43. Filling remaining columns with `missing`\n",
      "└ @ CSV /home/hoanganh/.julia/packages/CSV/Zl2ww/src/file.jl:612\n",
      "┌ Warning: thread = 1 warning: only found 32 / 33 columns around data row: 44. Filling remaining columns with `missing`\n",
      "└ @ CSV /home/hoanganh/.julia/packages/CSV/Zl2ww/src/file.jl:612\n",
      "┌ Warning: thread = 1 warning: only found 32 / 33 columns around data row: 45. Filling remaining columns with `missing`\n",
      "└ @ CSV /home/hoanganh/.julia/packages/CSV/Zl2ww/src/file.jl:612\n",
      "┌ Warning: thread = 1 warning: only found 32 / 33 columns around data row: 46. Filling remaining columns with `missing`\n",
      "└ @ CSV /home/hoanganh/.julia/packages/CSV/Zl2ww/src/file.jl:612\n",
      "┌ Warning: thread = 1 warning: only found 32 / 33 columns around data row: 47. Filling remaining columns with `missing`\n",
      "└ @ CSV /home/hoanganh/.julia/packages/CSV/Zl2ww/src/file.jl:612\n",
      "┌ Warning: thread = 1 warning: only found 32 / 33 columns around data row: 48. Filling remaining columns with `missing`\n",
      "└ @ CSV /home/hoanganh/.julia/packages/CSV/Zl2ww/src/file.jl:612\n",
      "┌ Warning: thread = 1 warning: only found 32 / 33 columns around data row: 49. Filling remaining columns with `missing`\n",
      "└ @ CSV /home/hoanganh/.julia/packages/CSV/Zl2ww/src/file.jl:612\n",
      "┌ Warning: thread = 1 warning: only found 32 / 33 columns around data row: 50. Filling remaining columns with `missing`\n",
      "└ @ CSV /home/hoanganh/.julia/packages/CSV/Zl2ww/src/file.jl:612\n",
      "┌ Warning: thread = 1 warning: only found 32 / 33 columns around data row: 51. Filling remaining columns with `missing`\n",
      "└ @ CSV /home/hoanganh/.julia/packages/CSV/Zl2ww/src/file.jl:612\n",
      "┌ Warning: thread = 1 warning: only found 32 / 33 columns around data row: 52. Filling remaining columns with `missing`\n",
      "└ @ CSV /home/hoanganh/.julia/packages/CSV/Zl2ww/src/file.jl:612\n",
      "┌ Warning: thread = 1 warning: only found 32 / 33 columns around data row: 53. Filling remaining columns with `missing`\n",
      "└ @ CSV /home/hoanganh/.julia/packages/CSV/Zl2ww/src/file.jl:612\n",
      "┌ Warning: thread = 1 warning: only found 32 / 33 columns around data row: 54. Filling remaining columns with `missing`\n",
      "└ @ CSV /home/hoanganh/.julia/packages/CSV/Zl2ww/src/file.jl:612\n",
      "┌ Warning: thread = 1 warning: only found 32 / 33 columns around data row: 55. Filling remaining columns with `missing`\n",
      "└ @ CSV /home/hoanganh/.julia/packages/CSV/Zl2ww/src/file.jl:612\n",
      "┌ Warning: thread = 1 warning: only found 32 / 33 columns around data row: 56. Filling remaining columns with `missing`\n",
      "└ @ CSV /home/hoanganh/.julia/packages/CSV/Zl2ww/src/file.jl:612\n",
      "┌ Warning: thread = 1 warning: only found 32 / 33 columns around data row: 57. Filling remaining columns with `missing`\n",
      "└ @ CSV /home/hoanganh/.julia/packages/CSV/Zl2ww/src/file.jl:612\n"
     ]
    },
    {
     "name": "stderr",
     "output_type": "stream",
     "text": [
      "┌ Warning: thread = 1 warning: only found 32 / 33 columns around data row: 58. Filling remaining columns with `missing`\n",
      "└ @ CSV /home/hoanganh/.julia/packages/CSV/Zl2ww/src/file.jl:612\n",
      "┌ Warning: thread = 1 warning: only found 32 / 33 columns around data row: 59. Filling remaining columns with `missing`\n",
      "└ @ CSV /home/hoanganh/.julia/packages/CSV/Zl2ww/src/file.jl:612\n",
      "┌ Warning: thread = 1 warning: only found 32 / 33 columns around data row: 60. Filling remaining columns with `missing`\n",
      "└ @ CSV /home/hoanganh/.julia/packages/CSV/Zl2ww/src/file.jl:612\n",
      "┌ Warning: thread = 1 warning: only found 32 / 33 columns around data row: 61. Filling remaining columns with `missing`\n",
      "└ @ CSV /home/hoanganh/.julia/packages/CSV/Zl2ww/src/file.jl:612\n",
      "┌ Warning: thread = 1 warning: only found 32 / 33 columns around data row: 62. Filling remaining columns with `missing`\n",
      "└ @ CSV /home/hoanganh/.julia/packages/CSV/Zl2ww/src/file.jl:612\n",
      "┌ Warning: thread = 1 warning: only found 32 / 33 columns around data row: 63. Filling remaining columns with `missing`\n",
      "└ @ CSV /home/hoanganh/.julia/packages/CSV/Zl2ww/src/file.jl:612\n",
      "┌ Warning: thread = 1 warning: only found 32 / 33 columns around data row: 64. Filling remaining columns with `missing`\n",
      "└ @ CSV /home/hoanganh/.julia/packages/CSV/Zl2ww/src/file.jl:612\n",
      "┌ Warning: thread = 1 warning: only found 32 / 33 columns around data row: 65. Filling remaining columns with `missing`\n",
      "└ @ CSV /home/hoanganh/.julia/packages/CSV/Zl2ww/src/file.jl:612\n",
      "┌ Warning: thread = 1 warning: only found 32 / 33 columns around data row: 66. Filling remaining columns with `missing`\n",
      "└ @ CSV /home/hoanganh/.julia/packages/CSV/Zl2ww/src/file.jl:612\n",
      "┌ Warning: thread = 1 warning: only found 32 / 33 columns around data row: 67. Filling remaining columns with `missing`\n",
      "└ @ CSV /home/hoanganh/.julia/packages/CSV/Zl2ww/src/file.jl:612\n",
      "┌ Warning: thread = 1 warning: only found 32 / 33 columns around data row: 68. Filling remaining columns with `missing`\n",
      "└ @ CSV /home/hoanganh/.julia/packages/CSV/Zl2ww/src/file.jl:612\n",
      "┌ Warning: thread = 1 warning: only found 32 / 33 columns around data row: 69. Filling remaining columns with `missing`\n",
      "└ @ CSV /home/hoanganh/.julia/packages/CSV/Zl2ww/src/file.jl:612\n",
      "┌ Warning: thread = 1 warning: only found 32 / 33 columns around data row: 70. Filling remaining columns with `missing`\n",
      "└ @ CSV /home/hoanganh/.julia/packages/CSV/Zl2ww/src/file.jl:612\n",
      "┌ Warning: thread = 1 warning: only found 32 / 33 columns around data row: 71. Filling remaining columns with `missing`\n",
      "└ @ CSV /home/hoanganh/.julia/packages/CSV/Zl2ww/src/file.jl:612\n",
      "┌ Warning: thread = 1 warning: only found 32 / 33 columns around data row: 72. Filling remaining columns with `missing`\n",
      "└ @ CSV /home/hoanganh/.julia/packages/CSV/Zl2ww/src/file.jl:612\n",
      "┌ Warning: thread = 1 warning: only found 32 / 33 columns around data row: 73. Filling remaining columns with `missing`\n",
      "└ @ CSV /home/hoanganh/.julia/packages/CSV/Zl2ww/src/file.jl:612\n",
      "┌ Warning: thread = 1 warning: only found 32 / 33 columns around data row: 74. Filling remaining columns with `missing`\n",
      "└ @ CSV /home/hoanganh/.julia/packages/CSV/Zl2ww/src/file.jl:612\n",
      "┌ Warning: thread = 1 warning: only found 32 / 33 columns around data row: 75. Filling remaining columns with `missing`\n",
      "└ @ CSV /home/hoanganh/.julia/packages/CSV/Zl2ww/src/file.jl:612\n",
      "┌ Warning: thread = 1 warning: only found 32 / 33 columns around data row: 76. Filling remaining columns with `missing`\n",
      "└ @ CSV /home/hoanganh/.julia/packages/CSV/Zl2ww/src/file.jl:612\n",
      "┌ Warning: thread = 1 warning: only found 32 / 33 columns around data row: 77. Filling remaining columns with `missing`\n",
      "└ @ CSV /home/hoanganh/.julia/packages/CSV/Zl2ww/src/file.jl:612\n",
      "┌ Warning: thread = 1 warning: only found 32 / 33 columns around data row: 78. Filling remaining columns with `missing`\n",
      "└ @ CSV /home/hoanganh/.julia/packages/CSV/Zl2ww/src/file.jl:612\n",
      "┌ Warning: thread = 1 warning: only found 32 / 33 columns around data row: 79. Filling remaining columns with `missing`\n",
      "└ @ CSV /home/hoanganh/.julia/packages/CSV/Zl2ww/src/file.jl:612\n",
      "┌ Warning: thread = 1 warning: only found 32 / 33 columns around data row: 80. Filling remaining columns with `missing`\n",
      "└ @ CSV /home/hoanganh/.julia/packages/CSV/Zl2ww/src/file.jl:612\n",
      "┌ Warning: thread = 1 warning: only found 32 / 33 columns around data row: 81. Filling remaining columns with `missing`\n",
      "└ @ CSV /home/hoanganh/.julia/packages/CSV/Zl2ww/src/file.jl:612\n",
      "┌ Warning: thread = 1 warning: only found 32 / 33 columns around data row: 82. Filling remaining columns with `missing`\n",
      "└ @ CSV /home/hoanganh/.julia/packages/CSV/Zl2ww/src/file.jl:612\n",
      "┌ Warning: thread = 1 warning: only found 32 / 33 columns around data row: 83. Filling remaining columns with `missing`\n",
      "└ @ CSV /home/hoanganh/.julia/packages/CSV/Zl2ww/src/file.jl:612\n",
      "┌ Warning: thread = 1 warning: only found 32 / 33 columns around data row: 84. Filling remaining columns with `missing`\n",
      "└ @ CSV /home/hoanganh/.julia/packages/CSV/Zl2ww/src/file.jl:612\n",
      "┌ Warning: thread = 1 warning: only found 32 / 33 columns around data row: 85. Filling remaining columns with `missing`\n",
      "└ @ CSV /home/hoanganh/.julia/packages/CSV/Zl2ww/src/file.jl:612\n",
      "┌ Warning: thread = 1 warning: only found 32 / 33 columns around data row: 86. Filling remaining columns with `missing`\n",
      "└ @ CSV /home/hoanganh/.julia/packages/CSV/Zl2ww/src/file.jl:612\n",
      "┌ Warning: thread = 1 warning: only found 32 / 33 columns around data row: 87. Filling remaining columns with `missing`\n",
      "└ @ CSV /home/hoanganh/.julia/packages/CSV/Zl2ww/src/file.jl:612\n",
      "┌ Warning: thread = 1 warning: only found 32 / 33 columns around data row: 88. Filling remaining columns with `missing`\n",
      "└ @ CSV /home/hoanganh/.julia/packages/CSV/Zl2ww/src/file.jl:612\n",
      "┌ Warning: thread = 1 warning: only found 32 / 33 columns around data row: 89. Filling remaining columns with `missing`\n",
      "└ @ CSV /home/hoanganh/.julia/packages/CSV/Zl2ww/src/file.jl:612\n",
      "┌ Warning: thread = 1 warning: only found 32 / 33 columns around data row: 90. Filling remaining columns with `missing`\n",
      "└ @ CSV /home/hoanganh/.julia/packages/CSV/Zl2ww/src/file.jl:612\n",
      "┌ Warning: thread = 1 warning: only found 32 / 33 columns around data row: 91. Filling remaining columns with `missing`\n",
      "└ @ CSV /home/hoanganh/.julia/packages/CSV/Zl2ww/src/file.jl:612\n",
      "┌ Warning: thread = 1 warning: only found 32 / 33 columns around data row: 92. Filling remaining columns with `missing`\n",
      "└ @ CSV /home/hoanganh/.julia/packages/CSV/Zl2ww/src/file.jl:612\n",
      "┌ Warning: thread = 1 warning: only found 32 / 33 columns around data row: 93. Filling remaining columns with `missing`\n",
      "└ @ CSV /home/hoanganh/.julia/packages/CSV/Zl2ww/src/file.jl:612\n",
      "┌ Warning: thread = 1 warning: only found 32 / 33 columns around data row: 94. Filling remaining columns with `missing`\n",
      "└ @ CSV /home/hoanganh/.julia/packages/CSV/Zl2ww/src/file.jl:612\n",
      "┌ Warning: thread = 1 warning: only found 32 / 33 columns around data row: 95. Filling remaining columns with `missing`\n",
      "└ @ CSV /home/hoanganh/.julia/packages/CSV/Zl2ww/src/file.jl:612\n",
      "┌ Warning: thread = 1 warning: only found 32 / 33 columns around data row: 96. Filling remaining columns with `missing`\n",
      "└ @ CSV /home/hoanganh/.julia/packages/CSV/Zl2ww/src/file.jl:612\n",
      "┌ Warning: thread = 1 warning: only found 32 / 33 columns around data row: 97. Filling remaining columns with `missing`\n",
      "└ @ CSV /home/hoanganh/.julia/packages/CSV/Zl2ww/src/file.jl:612\n",
      "┌ Warning: thread = 1 warning: only found 32 / 33 columns around data row: 98. Filling remaining columns with `missing`\n",
      "└ @ CSV /home/hoanganh/.julia/packages/CSV/Zl2ww/src/file.jl:612\n",
      "┌ Warning: thread = 1 warning: only found 32 / 33 columns around data row: 99. Filling remaining columns with `missing`\n",
      "└ @ CSV /home/hoanganh/.julia/packages/CSV/Zl2ww/src/file.jl:612\n",
      "┌ Warning: thread = 1 warning: only found 32 / 33 columns around data row: 100. Filling remaining columns with `missing`\n",
      "└ @ CSV /home/hoanganh/.julia/packages/CSV/Zl2ww/src/file.jl:612\n",
      "┌ Warning: thread = 1 warning: only found 32 / 33 columns around data row: 101. Filling remaining columns with `missing`\n",
      "└ @ CSV /home/hoanganh/.julia/packages/CSV/Zl2ww/src/file.jl:612\n",
      "┌ Warning: thread = 1 warning: only found 32 / 33 columns around data row: 102. Filling remaining columns with `missing`\n",
      "└ @ CSV /home/hoanganh/.julia/packages/CSV/Zl2ww/src/file.jl:612\n",
      "┌ Warning: thread = 1: too many warnings, silencing any further warnings\n",
      "└ @ CSV /home/hoanganh/.julia/packages/CSV/Zl2ww/src/file.jl:617\n"
     ]
    },
    {
     "data": {
      "text/html": [
       "<table class=\"data-frame\"><thead><tr><th></th><th>id</th><th>diagnosis</th><th>radius_mean</th><th>texture_mean</th><th>perimeter_mean</th><th>area_mean</th><th>smoothness_mean</th></tr><tr><th></th><th>Int64</th><th>String</th><th>Float64</th><th>Float64</th><th>Float64</th><th>Float64</th><th>Float64</th></tr></thead><tbody><p>569 rows × 33 columns (omitted printing of 26 columns)</p><tr><th>1</th><td>842302</td><td>M</td><td>17.99</td><td>10.38</td><td>122.8</td><td>1001.0</td><td>0.1184</td></tr><tr><th>2</th><td>842517</td><td>M</td><td>20.57</td><td>17.77</td><td>132.9</td><td>1326.0</td><td>0.08474</td></tr><tr><th>3</th><td>84300903</td><td>M</td><td>19.69</td><td>21.25</td><td>130.0</td><td>1203.0</td><td>0.1096</td></tr><tr><th>4</th><td>84348301</td><td>M</td><td>11.42</td><td>20.38</td><td>77.58</td><td>386.1</td><td>0.1425</td></tr><tr><th>5</th><td>84358402</td><td>M</td><td>20.29</td><td>14.34</td><td>135.1</td><td>1297.0</td><td>0.1003</td></tr><tr><th>6</th><td>843786</td><td>M</td><td>12.45</td><td>15.7</td><td>82.57</td><td>477.1</td><td>0.1278</td></tr><tr><th>7</th><td>844359</td><td>M</td><td>18.25</td><td>19.98</td><td>119.6</td><td>1040.0</td><td>0.09463</td></tr><tr><th>8</th><td>84458202</td><td>M</td><td>13.71</td><td>20.83</td><td>90.2</td><td>577.9</td><td>0.1189</td></tr><tr><th>9</th><td>844981</td><td>M</td><td>13.0</td><td>21.82</td><td>87.5</td><td>519.8</td><td>0.1273</td></tr><tr><th>10</th><td>84501001</td><td>M</td><td>12.46</td><td>24.04</td><td>83.97</td><td>475.9</td><td>0.1186</td></tr><tr><th>11</th><td>845636</td><td>M</td><td>16.02</td><td>23.24</td><td>102.7</td><td>797.8</td><td>0.08206</td></tr><tr><th>12</th><td>84610002</td><td>M</td><td>15.78</td><td>17.89</td><td>103.6</td><td>781.0</td><td>0.0971</td></tr><tr><th>13</th><td>846226</td><td>M</td><td>19.17</td><td>24.8</td><td>132.4</td><td>1123.0</td><td>0.0974</td></tr><tr><th>14</th><td>846381</td><td>M</td><td>15.85</td><td>23.95</td><td>103.7</td><td>782.7</td><td>0.08401</td></tr><tr><th>15</th><td>84667401</td><td>M</td><td>13.73</td><td>22.61</td><td>93.6</td><td>578.3</td><td>0.1131</td></tr><tr><th>16</th><td>84799002</td><td>M</td><td>14.54</td><td>27.54</td><td>96.73</td><td>658.8</td><td>0.1139</td></tr><tr><th>17</th><td>848406</td><td>M</td><td>14.68</td><td>20.13</td><td>94.74</td><td>684.5</td><td>0.09867</td></tr><tr><th>18</th><td>84862001</td><td>M</td><td>16.13</td><td>20.68</td><td>108.1</td><td>798.8</td><td>0.117</td></tr><tr><th>19</th><td>849014</td><td>M</td><td>19.81</td><td>22.15</td><td>130.0</td><td>1260.0</td><td>0.09831</td></tr><tr><th>20</th><td>8510426</td><td>B</td><td>13.54</td><td>14.36</td><td>87.46</td><td>566.3</td><td>0.09779</td></tr><tr><th>21</th><td>8510653</td><td>B</td><td>13.08</td><td>15.71</td><td>85.63</td><td>520.0</td><td>0.1075</td></tr><tr><th>22</th><td>8510824</td><td>B</td><td>9.504</td><td>12.44</td><td>60.34</td><td>273.9</td><td>0.1024</td></tr><tr><th>23</th><td>8511133</td><td>M</td><td>15.34</td><td>14.26</td><td>102.5</td><td>704.4</td><td>0.1073</td></tr><tr><th>24</th><td>851509</td><td>M</td><td>21.16</td><td>23.04</td><td>137.2</td><td>1404.0</td><td>0.09428</td></tr><tr><th>25</th><td>852552</td><td>M</td><td>16.65</td><td>21.38</td><td>110.0</td><td>904.6</td><td>0.1121</td></tr><tr><th>26</th><td>852631</td><td>M</td><td>17.14</td><td>16.4</td><td>116.0</td><td>912.7</td><td>0.1186</td></tr><tr><th>27</th><td>852763</td><td>M</td><td>14.58</td><td>21.53</td><td>97.41</td><td>644.8</td><td>0.1054</td></tr><tr><th>28</th><td>852781</td><td>M</td><td>18.61</td><td>20.25</td><td>122.1</td><td>1094.0</td><td>0.0944</td></tr><tr><th>29</th><td>852973</td><td>M</td><td>15.3</td><td>25.27</td><td>102.4</td><td>732.4</td><td>0.1082</td></tr><tr><th>30</th><td>853201</td><td>M</td><td>17.57</td><td>15.05</td><td>115.0</td><td>955.1</td><td>0.09847</td></tr><tr><th>&vellip;</th><td>&vellip;</td><td>&vellip;</td><td>&vellip;</td><td>&vellip;</td><td>&vellip;</td><td>&vellip;</td><td>&vellip;</td></tr></tbody></table>"
      ],
      "text/latex": [
       "\\begin{tabular}{r|cccccccc}\n",
       "\t& id & diagnosis & radius\\_mean & texture\\_mean & perimeter\\_mean & area\\_mean & smoothness\\_mean & \\\\\n",
       "\t\\hline\n",
       "\t& Int64 & String & Float64 & Float64 & Float64 & Float64 & Float64 & \\\\\n",
       "\t\\hline\n",
       "\t1 & 842302 & M & 17.99 & 10.38 & 122.8 & 1001.0 & 0.1184 & $\\dots$ \\\\\n",
       "\t2 & 842517 & M & 20.57 & 17.77 & 132.9 & 1326.0 & 0.08474 & $\\dots$ \\\\\n",
       "\t3 & 84300903 & M & 19.69 & 21.25 & 130.0 & 1203.0 & 0.1096 & $\\dots$ \\\\\n",
       "\t4 & 84348301 & M & 11.42 & 20.38 & 77.58 & 386.1 & 0.1425 & $\\dots$ \\\\\n",
       "\t5 & 84358402 & M & 20.29 & 14.34 & 135.1 & 1297.0 & 0.1003 & $\\dots$ \\\\\n",
       "\t6 & 843786 & M & 12.45 & 15.7 & 82.57 & 477.1 & 0.1278 & $\\dots$ \\\\\n",
       "\t7 & 844359 & M & 18.25 & 19.98 & 119.6 & 1040.0 & 0.09463 & $\\dots$ \\\\\n",
       "\t8 & 84458202 & M & 13.71 & 20.83 & 90.2 & 577.9 & 0.1189 & $\\dots$ \\\\\n",
       "\t9 & 844981 & M & 13.0 & 21.82 & 87.5 & 519.8 & 0.1273 & $\\dots$ \\\\\n",
       "\t10 & 84501001 & M & 12.46 & 24.04 & 83.97 & 475.9 & 0.1186 & $\\dots$ \\\\\n",
       "\t11 & 845636 & M & 16.02 & 23.24 & 102.7 & 797.8 & 0.08206 & $\\dots$ \\\\\n",
       "\t12 & 84610002 & M & 15.78 & 17.89 & 103.6 & 781.0 & 0.0971 & $\\dots$ \\\\\n",
       "\t13 & 846226 & M & 19.17 & 24.8 & 132.4 & 1123.0 & 0.0974 & $\\dots$ \\\\\n",
       "\t14 & 846381 & M & 15.85 & 23.95 & 103.7 & 782.7 & 0.08401 & $\\dots$ \\\\\n",
       "\t15 & 84667401 & M & 13.73 & 22.61 & 93.6 & 578.3 & 0.1131 & $\\dots$ \\\\\n",
       "\t16 & 84799002 & M & 14.54 & 27.54 & 96.73 & 658.8 & 0.1139 & $\\dots$ \\\\\n",
       "\t17 & 848406 & M & 14.68 & 20.13 & 94.74 & 684.5 & 0.09867 & $\\dots$ \\\\\n",
       "\t18 & 84862001 & M & 16.13 & 20.68 & 108.1 & 798.8 & 0.117 & $\\dots$ \\\\\n",
       "\t19 & 849014 & M & 19.81 & 22.15 & 130.0 & 1260.0 & 0.09831 & $\\dots$ \\\\\n",
       "\t20 & 8510426 & B & 13.54 & 14.36 & 87.46 & 566.3 & 0.09779 & $\\dots$ \\\\\n",
       "\t21 & 8510653 & B & 13.08 & 15.71 & 85.63 & 520.0 & 0.1075 & $\\dots$ \\\\\n",
       "\t22 & 8510824 & B & 9.504 & 12.44 & 60.34 & 273.9 & 0.1024 & $\\dots$ \\\\\n",
       "\t23 & 8511133 & M & 15.34 & 14.26 & 102.5 & 704.4 & 0.1073 & $\\dots$ \\\\\n",
       "\t24 & 851509 & M & 21.16 & 23.04 & 137.2 & 1404.0 & 0.09428 & $\\dots$ \\\\\n",
       "\t25 & 852552 & M & 16.65 & 21.38 & 110.0 & 904.6 & 0.1121 & $\\dots$ \\\\\n",
       "\t26 & 852631 & M & 17.14 & 16.4 & 116.0 & 912.7 & 0.1186 & $\\dots$ \\\\\n",
       "\t27 & 852763 & M & 14.58 & 21.53 & 97.41 & 644.8 & 0.1054 & $\\dots$ \\\\\n",
       "\t28 & 852781 & M & 18.61 & 20.25 & 122.1 & 1094.0 & 0.0944 & $\\dots$ \\\\\n",
       "\t29 & 852973 & M & 15.3 & 25.27 & 102.4 & 732.4 & 0.1082 & $\\dots$ \\\\\n",
       "\t30 & 853201 & M & 17.57 & 15.05 & 115.0 & 955.1 & 0.09847 & $\\dots$ \\\\\n",
       "\t$\\dots$ & $\\dots$ & $\\dots$ & $\\dots$ & $\\dots$ & $\\dots$ & $\\dots$ & $\\dots$ &  \\\\\n",
       "\\end{tabular}\n"
      ],
      "text/plain": [
       "\u001b[1m569×33 DataFrame\u001b[0m\n",
       "\u001b[1m Row \u001b[0m│\u001b[1m id       \u001b[0m\u001b[1m diagnosis \u001b[0m\u001b[1m radius_mean \u001b[0m\u001b[1m texture_mean \u001b[0m\u001b[1m perimeter_mean \u001b[0m\u001b[1m area_me\u001b[0m ⋯\n",
       "\u001b[1m     \u001b[0m│\u001b[90m Int64    \u001b[0m\u001b[90m String    \u001b[0m\u001b[90m Float64     \u001b[0m\u001b[90m Float64      \u001b[0m\u001b[90m Float64        \u001b[0m\u001b[90m Float64\u001b[0m ⋯\n",
       "─────┼──────────────────────────────────────────────────────────────────────────\n",
       "   1 │   842302  M               17.99          10.38          122.8      1001 ⋯\n",
       "   2 │   842517  M               20.57          17.77          132.9      1326\n",
       "   3 │ 84300903  M               19.69          21.25          130.0      1203\n",
       "   4 │ 84348301  M               11.42          20.38           77.58      386\n",
       "   5 │ 84358402  M               20.29          14.34          135.1      1297 ⋯\n",
       "   6 │   843786  M               12.45          15.7            82.57      477\n",
       "   7 │   844359  M               18.25          19.98          119.6      1040\n",
       "   8 │ 84458202  M               13.71          20.83           90.2       577\n",
       "   9 │   844981  M               13.0           21.82           87.5       519 ⋯\n",
       "  10 │ 84501001  M               12.46          24.04           83.97      475\n",
       "  11 │   845636  M               16.02          23.24          102.7       797\n",
       "  ⋮  │    ⋮          ⋮           ⋮            ⋮              ⋮             ⋮   ⋱\n",
       " 560 │   925291  B               11.51          23.93           74.52      403\n",
       " 561 │   925292  B               14.05          27.15           91.38      600 ⋯\n",
       " 562 │   925311  B               11.2           29.37           70.67      386\n",
       " 563 │   925622  M               15.22          30.62          103.4       716\n",
       " 564 │   926125  M               20.92          25.09          143.0      1347\n",
       " 565 │   926424  M               21.56          22.39          142.0      1479 ⋯\n",
       " 566 │   926682  M               20.13          28.25          131.2      1261\n",
       " 567 │   926954  M               16.6           28.08          108.3       858\n",
       " 568 │   927241  M               20.6           29.33          140.1      1265\n",
       " 569 │    92751  B                7.76          24.54           47.92      181 ⋯\n",
       "\u001b[36m                                                 28 columns and 548 rows omitted\u001b[0m"
      ]
     },
     "execution_count": 1,
     "metadata": {},
     "output_type": "execute_result"
    }
   ],
   "source": [
    "using CSV\n",
    "using DataFrames\n",
    "\n",
    "df = CSV.read(\"/home/hoanganh/Desktop/math-topics/SOSModels/codes/data.csv\",DataFrame)"
   ]
  },
  {
   "cell_type": "code",
   "execution_count": 2,
   "metadata": {},
   "outputs": [
    {
     "data": {
      "text/plain": [
       "569×31 Array{Float64,2}:\n",
       " 17.99   10.38  122.8   1001.0  0.1184   …  0.2654   0.4601  0.1189   1.0\n",
       " 20.57   17.77  132.9   1326.0  0.08474     0.186    0.275   0.08902  1.0\n",
       " 19.69   21.25  130.0   1203.0  0.1096      0.243    0.3613  0.08758  1.0\n",
       " 11.42   20.38   77.58   386.1  0.1425      0.2575   0.6638  0.173    1.0\n",
       " 20.29   14.34  135.1   1297.0  0.1003      0.1625   0.2364  0.07678  1.0\n",
       " 12.45   15.7    82.57   477.1  0.1278   …  0.1741   0.3985  0.1244   1.0\n",
       " 18.25   19.98  119.6   1040.0  0.09463     0.1932   0.3063  0.08368  1.0\n",
       " 13.71   20.83   90.2    577.9  0.1189      0.1556   0.3196  0.1151   1.0\n",
       " 13.0    21.82   87.5    519.8  0.1273      0.206    0.4378  0.1072   1.0\n",
       " 12.46   24.04   83.97   475.9  0.1186      0.221    0.4366  0.2075   1.0\n",
       " 16.02   23.24  102.7    797.8  0.08206  …  0.09975  0.2948  0.08452  1.0\n",
       " 15.78   17.89  103.6    781.0  0.0971      0.181    0.3792  0.1048   1.0\n",
       " 19.17   24.8   132.4   1123.0  0.0974      0.1767   0.3176  0.1023   1.0\n",
       "  ⋮                                      ⋱                            ⋮  \n",
       "  9.423  27.88   59.26   271.3  0.08123     0.0      0.2475  0.06969  2.0\n",
       " 14.59   22.68   96.39   657.1  0.08473     0.1105   0.2258  0.08004  2.0\n",
       " 11.51   23.93   74.52   403.5  0.09261     0.09653  0.2112  0.08732  2.0\n",
       " 14.05   27.15   91.38   600.4  0.09929  …  0.1048   0.225   0.08321  2.0\n",
       " 11.2    29.37   70.67   386.0  0.07449     0.0      0.1566  0.05905  2.0\n",
       " 15.22   30.62  103.4    716.9  0.1048      0.2356   0.4089  0.1409   1.0\n",
       " 20.92   25.09  143.0   1347.0  0.1099      0.2542   0.2929  0.09873  1.0\n",
       " 21.56   22.39  142.0   1479.0  0.111       0.2216   0.206   0.07115  1.0\n",
       " 20.13   28.25  131.2   1261.0  0.0978   …  0.1628   0.2572  0.06637  1.0\n",
       " 16.6    28.08  108.3    858.1  0.08455     0.1418   0.2218  0.0782   1.0\n",
       " 20.6    29.33  140.1   1265.0  0.1178      0.265    0.4087  0.124    1.0\n",
       "  7.76   24.54   47.92   181.0  0.05263     0.0      0.2871  0.07039  2.0"
      ]
     },
     "execution_count": 2,
     "metadata": {},
     "output_type": "execute_result"
    }
   ],
   "source": [
    "nr,nc=size(df)\n",
    "D=Matrix{Float64}(undef,nr,nc-2)\n",
    "for j=1:nr\n",
    "    for i=3:nc-1\n",
    "        D[j,i-2]=df[j,i]\n",
    "    end\n",
    "    if df[j,2]==\"M\"\n",
    "        D[j,nc-2]=1\n",
    "    else\n",
    "        D[j,nc-2]=2\n",
    "    end\n",
    "end\n",
    "D"
   ]
  },
  {
   "cell_type": "code",
   "execution_count": 3,
   "metadata": {},
   "outputs": [
    {
     "data": {
      "text/plain": [
       "30-element Array{Float64,1}:\n",
       "   28.11   \n",
       "   39.28   \n",
       "  188.5    \n",
       " 2501.0    \n",
       "    0.1634 \n",
       "    0.3454 \n",
       "    0.4268 \n",
       "    0.2012 \n",
       "    0.304  \n",
       "    0.09744\n",
       "    2.873  \n",
       "    4.885  \n",
       "   21.98   \n",
       "    ⋮      \n",
       "    0.07895\n",
       "    0.02984\n",
       "   36.04   \n",
       "   49.54   \n",
       "  251.2    \n",
       " 4254.0    \n",
       "    0.2226 \n",
       "    1.058  \n",
       "    1.252  \n",
       "    0.291  \n",
       "    0.6638 \n",
       "    0.2075 "
      ]
     },
     "execution_count": 3,
     "metadata": {},
     "output_type": "execute_result"
    }
   ],
   "source": [
    "max_col=[maximum(D[:,j]) for j=1:30]"
   ]
  },
  {
   "cell_type": "code",
   "execution_count": 4,
   "metadata": {},
   "outputs": [
    {
     "data": {
      "text/plain": [
       "0-element Array{Int64,1}"
      ]
     },
     "execution_count": 4,
     "metadata": {},
     "output_type": "execute_result"
    }
   ],
   "source": [
    "ind_zero=Vector{Int64}([])\n",
    "for j=1:30\n",
    "    if max_col[j]>0\n",
    "        D[:,j]/=max_col[j]\n",
    "    else\n",
    "        append!(ind_zero,j)\n",
    "    end\n",
    "end\n",
    "ind_zero"
   ]
  },
  {
   "cell_type": "code",
   "execution_count": 5,
   "metadata": {},
   "outputs": [
    {
     "data": {
      "text/plain": [
       "569×31 Array{Float64,2}:\n",
       " 0.639986  0.264257  0.651459  …  0.912027  0.69313   0.573012  1.0\n",
       " 0.731768  0.452393  0.70504      0.639175  0.414281  0.429012  1.0\n",
       " 0.700462  0.540988  0.689655     0.835052  0.54429   0.422072  1.0\n",
       " 0.406261  0.518839  0.411565     0.88488   1.0       0.833735  1.0\n",
       " 0.721807  0.365071  0.716711     0.558419  0.356131  0.370024  1.0\n",
       " 0.442903  0.399695  0.438037  …  0.598282  0.600331  0.599518  1.0\n",
       " 0.649235  0.508656  0.634483     0.663918  0.461434  0.403277  1.0\n",
       " 0.487727  0.530295  0.478515     0.534708  0.48147   0.554699  1.0\n",
       " 0.462469  0.555499  0.464191     0.707904  0.659536  0.516627  1.0\n",
       " 0.443259  0.612016  0.445464     0.75945   0.657728  1.0       1.0\n",
       " 0.569904  0.59165   0.544828  …  0.342784  0.44411   0.407325  1.0\n",
       " 0.561366  0.455448  0.549602     0.621993  0.571256  0.50506   1.0\n",
       " 0.681964  0.631365  0.702387     0.607216  0.478457  0.493012  1.0\n",
       " ⋮                             ⋱                                ⋮  \n",
       " 0.335219  0.709776  0.314377     0.0       0.372853  0.335855  2.0\n",
       " 0.519032  0.577393  0.511353     0.379725  0.340163  0.385735  2.0\n",
       " 0.409463  0.609216  0.395332     0.331718  0.318168  0.420819  2.0\n",
       " 0.499822  0.691191  0.484775  …  0.360137  0.338958  0.401012  2.0\n",
       " 0.398435  0.747709  0.374907     0.0       0.235914  0.284578  2.0\n",
       " 0.541444  0.779532  0.548541     0.809622  0.615999  0.679036  1.0\n",
       " 0.744219  0.638747  0.758621     0.87354   0.441247  0.475807  1.0\n",
       " 0.766987  0.57001   0.753316     0.761512  0.310334  0.342892  1.0\n",
       " 0.716115  0.719196  0.696021  …  0.55945   0.387466  0.319855  1.0\n",
       " 0.590537  0.714868  0.574536     0.487285  0.334137  0.376867  1.0\n",
       " 0.732835  0.74669   0.743236     0.910653  0.615697  0.59759   1.0\n",
       " 0.276058  0.624745  0.254218     0.0       0.43251   0.339229  2.0"
      ]
     },
     "execution_count": 5,
     "metadata": {},
     "output_type": "execute_result"
    }
   ],
   "source": [
    "D=D[:,setdiff(1:31,ind_zero)]"
   ]
  },
  {
   "cell_type": "code",
   "execution_count": 6,
   "metadata": {},
   "outputs": [
    {
     "data": {
      "text/plain": [
       "569×30 Array{Float64,2}:\n",
       "  0.279972     -0.471487    0.302918   …   0.824055    0.386261    0.146024 \n",
       "  0.463536     -0.0952138   0.41008        0.278351   -0.171437   -0.141976 \n",
       "  0.400925      0.0819756   0.37931        0.670103    0.0885809  -0.155855 \n",
       " -0.187478      0.0376782  -0.17687        0.769759    1.0         0.66747  \n",
       "  0.443614     -0.269857    0.433422       0.116838   -0.287737   -0.259952 \n",
       " -0.114194     -0.200611   -0.123926   …   0.196564    0.200663    0.199036 \n",
       "  0.29847       0.0173116   0.268966       0.327835   -0.0771317  -0.193446 \n",
       " -0.0245464     0.0605906  -0.0429708      0.0694158  -0.0370594   0.109398 \n",
       " -0.0750623     0.110998   -0.071618       0.415808    0.319072    0.033253 \n",
       " -0.113483      0.224033   -0.109072       0.5189      0.315456    1.0      \n",
       "  0.139808      0.183299    0.0896552  …  -0.314433   -0.111781   -0.185349 \n",
       "  0.122732     -0.0891039   0.0992042      0.243986    0.142513    0.0101205\n",
       "  0.363927      0.262729    0.404775       0.214433   -0.0430853  -0.0139759\n",
       "  ⋮                                    ⋱                                    \n",
       " -0.329562      0.419552   -0.371247      -1.0        -0.254293   -0.328289 \n",
       "  0.0380647     0.154786    0.0227056     -0.24055    -0.319675   -0.22853  \n",
       " -0.181074      0.218432   -0.209337      -0.336564   -0.363664   -0.158361 \n",
       " -0.000355745   0.382383   -0.0304509  …  -0.279725   -0.322085   -0.197976 \n",
       " -0.203131      0.495418   -0.250186      -1.0        -0.528171   -0.430843 \n",
       "  0.0828887     0.559063    0.0970822      0.619244    0.231998    0.358072 \n",
       "  0.488438      0.277495    0.517241       0.747079   -0.117505   -0.0483855\n",
       "  0.533974      0.14002     0.506631       0.523024   -0.379331   -0.314217 \n",
       "  0.432231      0.438391    0.392042   …   0.1189     -0.225068   -0.360289 \n",
       "  0.181074      0.429735    0.149072      -0.0254296  -0.331726   -0.246265 \n",
       "  0.465671      0.493381    0.486472       0.821306    0.231395    0.195181 \n",
       " -0.447883      0.249491   -0.491565      -1.0        -0.13498    -0.321542 "
      ]
     },
     "execution_count": 6,
     "metadata": {},
     "output_type": "execute_result"
    }
   ],
   "source": [
    "D[:,1:30].-=0.5\n",
    "D[:,1:30]*=2"
   ]
  },
  {
   "cell_type": "code",
   "execution_count": 7,
   "metadata": {},
   "outputs": [
    {
     "data": {
      "text/plain": [
       "3.962383195528556"
      ]
     },
     "execution_count": 7,
     "metadata": {},
     "output_type": "execute_result"
    }
   ],
   "source": [
    "using LinearAlgebra\n",
    "\n",
    "max_norm_col=maximum(norm(D[j,1:30]) for j=1:nr) "
   ]
  },
  {
   "cell_type": "code",
   "execution_count": 8,
   "metadata": {},
   "outputs": [
    {
     "data": {
      "text/plain": [
       "569×31 Array{Float64,2}:\n",
       "  0.0706574   -0.118991     0.0764484   …   0.097482     0.0368526   1.0\n",
       "  0.116984    -0.0240294    0.103493       -0.0432662   -0.0358309   1.0\n",
       "  0.101183     0.0206884    0.0957278       0.0223555   -0.0393338   1.0\n",
       " -0.0473144    0.00950898  -0.0446373       0.252373     0.168452    1.0\n",
       "  0.111956    -0.0681048    0.109384       -0.0726172   -0.0656049   1.0\n",
       " -0.0288196   -0.0506289   -0.0312756   …   0.050642     0.0502314   1.0\n",
       "  0.075326     0.00436899   0.0678797      -0.019466    -0.0488206   1.0\n",
       " -0.00619486   0.0152915   -0.0108447      -0.00935279   0.027609    1.0\n",
       " -0.0189437    0.0280129   -0.0180745       0.0805253    0.00839217  1.0\n",
       " -0.02864      0.0565399   -0.0275268       0.0796128    0.252373    1.0\n",
       "  0.0352838    0.0462599    0.0226266   …  -0.0282105   -0.0467773   1.0\n",
       "  0.0309743   -0.0224874    0.0250365       0.0359664    0.00255414  1.0\n",
       "  0.0918456    0.0663058    0.102154       -0.0108736   -0.00352715  1.0\n",
       "  ⋮                                     ⋱                            ⋮  \n",
       " -0.0831728    0.105884    -0.0936928      -0.0641769   -0.0828514   2.0\n",
       "  0.00960653   0.0390639    0.00573028     -0.0806774   -0.0576749   2.0\n",
       " -0.0456983    0.0551264   -0.0528311      -0.091779    -0.0399662   2.0\n",
       " -8.97806e-5   0.0965033   -0.007685    …  -0.0812857   -0.0499638   2.0\n",
       " -0.0512647    0.12503     -0.0631402      -0.133296    -0.108733    2.0\n",
       "  0.0209189    0.141093     0.024501        0.05855      0.0903679   1.0\n",
       "  0.123269     0.0700323    0.130538       -0.0296552   -0.0122112   1.0\n",
       "  0.134761     0.0353374    0.12786        -0.0957331   -0.0793      1.0\n",
       "  0.109083     0.110638     0.0989411   …  -0.0568011   -0.0909274   1.0\n",
       "  0.0456983    0.108454     0.0376217      -0.0837189   -0.0621507   1.0\n",
       "  0.117523     0.124516     0.122773        0.0583979    0.0492584   1.0\n",
       " -0.113034     0.0629648   -0.124058       -0.0340655   -0.0811487   2.0"
      ]
     },
     "execution_count": 8,
     "metadata": {},
     "output_type": "execute_result"
    }
   ],
   "source": [
    "R=1\n",
    "D[:,1:30]/=max_norm_col/R\n",
    "D"
   ]
  },
  {
   "cell_type": "code",
   "execution_count": 9,
   "metadata": {},
   "outputs": [
    {
     "data": {
      "text/plain": [
       "30"
      ]
     },
     "execution_count": 9,
     "metadata": {},
     "output_type": "execute_result"
    }
   ],
   "source": [
    "Y=Vector{Matrix{Float64}}(undef,2)\n",
    "\n",
    "for r in 1:2\n",
    "    Y[r]=D[findall(u -> u == r, D[:,end]),1:30]\n",
    "end\n",
    "N=30\n"
   ]
  },
  {
   "cell_type": "code",
   "execution_count": 10,
   "metadata": {},
   "outputs": [
    {
     "data": {
      "text/plain": [
       "357×30 Array{Float64,2}:\n",
       " -0.00924741  -0.0678478    -0.0181816   …  -0.0260053    -0.0757971\n",
       " -0.0175072   -0.0505004    -0.0230818      -0.0102653    -0.0533207\n",
       " -0.0817183   -0.0925198    -0.0908009      -0.0660779    -0.063294 \n",
       " -0.018405    -0.015677     -0.0311684      -0.101284     -0.102312 \n",
       " -0.105205    -0.0359799    -0.113909       -0.0162723    -0.0721484\n",
       " -0.036002    -0.0643783    -0.0434055   …  -0.0434943    -0.0504503\n",
       " -0.0101452    0.0341809    -0.0196543      -0.0340655    -0.0841163\n",
       " -0.0412093    0.0251859    -0.0522955      -0.0673705    -0.0927274\n",
       " -0.00745179  -0.0424049    -0.018851       -0.0739859    -0.0571641\n",
       " -0.0379772   -0.01799      -0.0496446      -0.0406048    -0.0721727\n",
       " -0.0455188   -0.0114365    -0.0559907   …  -0.000988507  -0.0812217\n",
       " -0.0180459   -0.00424049   -0.0311684      -0.0669143    -0.0993925\n",
       " -0.0976275   -0.100872     -0.106867       -0.00752786   -0.0328146\n",
       "  ⋮                                      ⋱                          \n",
       " -0.0525217    0.0359799    -0.0609445   …  -0.0114058    -0.0569938\n",
       " -0.0230736    0.125801     -0.0345423      -0.0693475    -0.0946491\n",
       " -0.0847888    0.0295549    -0.0943622      -0.0672185    -0.0725376\n",
       " -0.0210984    0.119248     -0.031463       -0.0720089    -0.0762107\n",
       " -0.0676048    0.102414     -0.0765287      -0.0831106    -0.0508882\n",
       " -0.0699391   -0.000642498  -0.0790457   …  -0.0803732    -0.0883732\n",
       " -0.0831728    0.105884     -0.0936928      -0.0641769    -0.0828514\n",
       "  0.00960653   0.0390639     0.00573028     -0.0806774    -0.0576749\n",
       " -0.0456983    0.0551264    -0.0528311      -0.091779     -0.0399662\n",
       " -8.97806e-5   0.0965033    -0.007685       -0.0812857    -0.0499638\n",
       " -0.0512647    0.12503      -0.0631402   …  -0.133296     -0.108733 \n",
       " -0.113034     0.0629648    -0.124058       -0.0340655    -0.0811487"
      ]
     },
     "execution_count": 10,
     "metadata": {},
     "output_type": "execute_result"
    }
   ],
   "source": [
    "Y[2]"
   ]
  },
  {
   "cell_type": "code",
   "execution_count": 11,
   "metadata": {},
   "outputs": [
    {
     "data": {
      "text/plain": [
       "170×30 Array{Float64,2}:\n",
       "  0.0706574   -0.118991     0.0764484    …   0.097482     0.0368526 \n",
       "  0.116984    -0.0240294    0.103493        -0.0432662   -0.0358309 \n",
       "  0.101183     0.0206884    0.0957278        0.0223555   -0.0393338 \n",
       " -0.0473144    0.00950898  -0.0446373        0.252373     0.168452  \n",
       "  0.111956    -0.0681048    0.109384        -0.0726172   -0.0656049 \n",
       " -0.0288196   -0.0506289   -0.0312756    …   0.050642     0.0502314 \n",
       "  0.075326     0.00436899   0.0678797       -0.019466    -0.0488206 \n",
       " -0.00619486   0.0152915   -0.0108447       -0.00935279   0.027609  \n",
       " -0.0189437    0.0280129   -0.0180745        0.0805253    0.00839217\n",
       " -0.02864      0.0565399   -0.0275268        0.0796128    0.252373  \n",
       "  0.0352838    0.0462599    0.0226266    …  -0.0282105   -0.0467773 \n",
       "  0.0309743   -0.0224874    0.0250365        0.0359664    0.00255414\n",
       "  0.0918456    0.0663058    0.102154        -0.0108736   -0.00352715\n",
       "  ⋮                                      ⋱                          \n",
       "  0.0304356   -0.00539699   0.0344085        0.0704121    0.00304064\n",
       "  0.209638    -0.0280129    0.214082         0.0282105   -0.0379472 \n",
       "  0.018405     0.0783848    0.0100414    …  -0.0505659   -0.0227927 \n",
       "  0.11465      0.0274989    0.105903        -0.0539877   -0.0885435 \n",
       "  0.11034      0.0923913    0.105635        -0.00364987  -0.0667239 \n",
       "  0.137454    -0.0307114    0.124915        -0.0615155   -0.0944059 \n",
       "  0.142841     0.0290409    0.141784        -0.0439505   -0.0438096 \n",
       "  0.0412093    0.0469024    0.0394961    …   0.114439    -0.0185114 \n",
       "  0.131349    -0.0583389    0.125986        -0.044787    -0.0415717 \n",
       "  0.118241    -0.0294264    0.108581        -0.0479046   -0.0807595 \n",
       " -0.0534195   -0.0104085   -0.0560978        0.0634925    0.0889084 \n",
       "  0.00978609   0.0469024   -0.000749756     -0.0640248   -0.0860867 "
      ]
     },
     "execution_count": 11,
     "metadata": {},
     "output_type": "execute_result"
    }
   ],
   "source": [
    "t=Vector{Int64}(undef,2)\n",
    "Y_train=Vector{Matrix{Float64}}(undef,2)\n",
    "\n",
    "for r=1:2\n",
    "    t[r]=ceil(Int64,0.8*size(Y[r],1))\n",
    "    Y_train[r]=Y[r][1:t[r],:]\n",
    "end\n",
    "\n",
    "Y_train[1]"
   ]
  },
  {
   "cell_type": "code",
   "execution_count": 12,
   "metadata": {},
   "outputs": [],
   "source": [
    "Y_test=Vector{Matrix{Float64}}(undef,2)\n",
    "\n",
    "for r=1:2\n",
    "    Y_test[r]=Y[r][(t[r]+1):end,:]\n",
    "end"
   ]
  },
  {
   "cell_type": "code",
   "execution_count": 21,
   "metadata": {},
   "outputs": [
    {
     "name": "stdout",
     "output_type": "stream",
     "text": [
      "number of attributes: n=30\n",
      "sample sizes for traint sets: t=[170, 286]\n",
      "degree of separating polynomial: k=2\n",
      "perturbed parameter: c=Inf\n",
      "Problem\n"
     ]
    },
    {
     "name": "stderr",
     "output_type": "stream",
     "text": [
      "WARNING: replacing module ClassificationModels.\n"
     ]
    },
    {
     "name": "stdout",
     "output_type": "stream",
     "text": [
      "  Name                   :                 \n",
      "  Objective sense        : min             \n",
      "  Type                   : CONIC (conic optimization problem)\n",
      "  Constraints            : 954             \n",
      "  Cones                  : 1               \n",
      "  Scalar variables       : 1451            \n",
      "  Matrix variables       : 0               \n",
      "  Integer variables      : 0               \n",
      "\n",
      "Optimizer started.\n",
      "Presolve started.\n",
      "Linear dependency checker started.\n",
      "Linear dependency checker terminated.\n",
      "Eliminator started.\n",
      "Freed constraints in eliminator : 0\n",
      "Eliminator terminated.\n",
      "Eliminator - tries                  : 1                 time                   : 0.00            \n",
      "Lin. dep.  - tries                  : 1                 time                   : 0.00            \n",
      "Lin. dep.  - number                 : 0               \n",
      "Presolve terminated. Time: 0.02    \n",
      "Problem\n",
      "  Name                   :                 \n",
      "  Objective sense        : min             \n",
      "  Type                   : CONIC (conic optimization problem)\n",
      "  Constraints            : 954             \n",
      "  Cones                  : 1               \n",
      "  Scalar variables       : 1451            \n",
      "  Matrix variables       : 0               \n",
      "  Integer variables      : 0               \n",
      "\n",
      "Optimizer  - threads                : 4               \n",
      "Optimizer  - solved problem         : the primal      \n",
      "Optimizer  - Constraints            : 456\n",
      "Optimizer  - Cones                  : 1\n",
      "Optimizer  - Scalar variables       : 1410              conic                  : 498             \n",
      "Optimizer  - Semi-definite variables: 0                 scalarized             : 0               \n",
      "Factor     - setup time             : 0.01              dense det. time        : 0.00            \n",
      "Factor     - ML order time          : 0.00              GP order time          : 0.00            \n",
      "Factor     - nonzeros before factor : 1.04e+05          after factor           : 1.04e+05        \n",
      "Factor     - dense dim.             : 0                 flops                  : 1.35e+08        \n",
      "ITE PFEAS    DFEAS    GFEAS    PRSTATUS   POBJ              DOBJ              MU       TIME  \n",
      "0   1.0e+00  2.9e-01  2.4e+00  0.00e+00   7.071067812e-01   -7.071067812e-01  1.0e+00  0.04  \n",
      "1   7.1e-01  2.1e-01  1.1e+00  3.98e+00   7.676002723e-01   6.501647485e-01   7.1e-01  0.05  \n",
      "2   3.2e-01  9.4e-02  2.4e-01  4.41e+00   5.506854864e-01   5.803623221e-01   3.2e-01  0.05  \n",
      "3   4.0e-02  1.2e-02  1.6e-03  2.34e+00   3.945609225e-01   3.907444642e-01   4.0e-02  0.06  \n",
      "4   1.1e-03  3.3e-04  4.7e-06  1.15e+00   3.813331916e-01   3.812295436e-01   1.1e-03  0.07  \n",
      "5   2.5e-04  7.4e-05  3.7e-07  1.00e+00   3.814692446e-01   3.814456445e-01   2.5e-04  0.08  \n",
      "6   4.1e-05  1.2e-05  2.5e-08  1.00e+00   3.813886868e-01   3.813848265e-01   4.1e-05  0.10  \n",
      "7   1.5e-06  4.4e-07  1.8e-10  1.00e+00   3.813737627e-01   3.813736200e-01   1.5e-06  0.11  \n",
      "8   1.3e-07  3.9e-08  4.5e-12  1.00e+00   3.813732366e-01   3.813732243e-01   1.3e-07  0.11  \n",
      "Optimizer terminated. Time: 0.12    \n",
      "\n"
     ]
    },
    {
     "data": {
      "text/plain": [
       "(::Main.ClassificationModels.var\"#eval_sep_pol#242\"{Int64,Array{Float64,1}}) (generic function with 1 method)"
      ]
     },
     "execution_count": 21,
     "metadata": {},
     "output_type": "execute_result"
    }
   ],
   "source": [
    "include(\"../src/ClassificationModels2.jl\")\n",
    "using .ClassificationModels2\n",
    "\n",
    "\n",
    "n=N\n",
    "\n",
    "c=Inf\n",
    "\n",
    "X=Vector{Matrix{Float64}}(undef,2)\n",
    "X[1]=Y_train[1]\n",
    "X[2]=Y_train[2]\n",
    "\n",
    "k=2\n",
    "\n",
    "eval_sep_pol=ClassificationModels2.model_SVM(n,X,t,c,k,lamb=0.01,additional_monomials=false)"
   ]
  },
  {
   "cell_type": "code",
   "execution_count": 22,
   "metadata": {},
   "outputs": [
    {
     "data": {
      "text/plain": [
       "classifier (generic function with 1 method)"
      ]
     },
     "execution_count": 22,
     "metadata": {},
     "output_type": "execute_result"
    }
   ],
   "source": [
    "function classifier(y)\n",
    "    if eval_sep_pol(y)>0\n",
    "        return 1\n",
    "    else\n",
    "        return 2\n",
    "    end\n",
    "end"
   ]
  },
  {
   "cell_type": "code",
   "execution_count": 23,
   "metadata": {},
   "outputs": [],
   "source": [
    "predict=Vector{Vector{Int64}}(undef,2)\n",
    "\n",
    "for r=1:2\n",
    "    predict[r]=[classifier(Y_test[r][j,:]) for j in 1:size(Y_test[r],1)]\n",
    "end"
   ]
  },
  {
   "cell_type": "code",
   "execution_count": 24,
   "metadata": {},
   "outputs": [],
   "source": [
    "numcor=Vector{Int64}(undef,2)\n",
    "\n",
    "for r=1:2\n",
    "    numcor[r]=length(findall(u -> u == r, predict[r]))\n",
    "end"
   ]
  },
  {
   "cell_type": "code",
   "execution_count": 25,
   "metadata": {},
   "outputs": [
    {
     "data": {
      "text/plain": [
       "109"
      ]
     },
     "execution_count": 25,
     "metadata": {},
     "output_type": "execute_result"
    }
   ],
   "source": [
    "sum(numcor)"
   ]
  },
  {
   "cell_type": "code",
   "execution_count": 26,
   "metadata": {},
   "outputs": [
    {
     "data": {
      "text/plain": [
       "0.9646017699115044"
      ]
     },
     "execution_count": 26,
     "metadata": {},
     "output_type": "execute_result"
    }
   ],
   "source": [
    "accuracy=(sum(numcor))/(sum(size(Y_test[r],1) for r=1:2))"
   ]
  },
  {
   "cell_type": "code",
   "execution_count": null,
   "metadata": {},
   "outputs": [],
   "source": []
  },
  {
   "cell_type": "code",
   "execution_count": 27,
   "metadata": {},
   "outputs": [
    {
     "data": {
      "text/plain": [
       "113"
      ]
     },
     "execution_count": 27,
     "metadata": {},
     "output_type": "execute_result"
    }
   ],
   "source": [
    "nr-sum(t)"
   ]
  },
  {
   "cell_type": "code",
   "execution_count": 28,
   "metadata": {},
   "outputs": [
    {
     "data": {
      "text/plain": [
       "456"
      ]
     },
     "execution_count": 28,
     "metadata": {},
     "output_type": "execute_result"
    }
   ],
   "source": [
    "sum(t)"
   ]
  },
  {
   "cell_type": "code",
   "execution_count": null,
   "metadata": {},
   "outputs": [],
   "source": []
  },
  {
   "cell_type": "code",
   "execution_count": null,
   "metadata": {},
   "outputs": [],
   "source": []
  },
  {
   "cell_type": "code",
   "execution_count": null,
   "metadata": {},
   "outputs": [],
   "source": []
  }
 ],
 "metadata": {
  "kernelspec": {
   "display_name": "Julia 1.3.0",
   "language": "julia",
   "name": "julia-1.3"
  },
  "language_info": {
   "file_extension": ".jl",
   "mimetype": "application/julia",
   "name": "julia",
   "version": "1.3.0"
  }
 },
 "nbformat": 4,
 "nbformat_minor": 2
}
